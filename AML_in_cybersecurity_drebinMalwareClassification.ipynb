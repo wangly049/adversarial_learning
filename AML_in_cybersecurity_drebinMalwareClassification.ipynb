{
 "cells": [
  {
   "cell_type": "code",
   "execution_count": 1,
   "metadata": {
    "colab": {
     "base_uri": "https://localhost:8080/"
    },
    "executionInfo": {
     "elapsed": 27642,
     "status": "ok",
     "timestamp": 1713297159987,
     "user": {
      "displayName": "Liyan Wang",
      "userId": "15329650402360340238"
     },
     "user_tz": 420
    },
    "id": "_bKkx2n2roBS",
    "outputId": "05dc6c57-1474-4770-a893-d48db164a159"
   },
   "outputs": [
    {
     "name": "stdout",
     "output_type": "stream",
     "text": [
      "Mounted at /content/drive\n"
     ]
    }
   ],
   "source": [
    "# Mount the Google drive\n",
    "from google.colab import drive\n",
    "drive.mount('/content/drive')"
   ]
  },
  {
   "cell_type": "code",
   "execution_count": 2,
   "metadata": {
    "colab": {
     "base_uri": "https://localhost:8080/"
    },
    "executionInfo": {
     "elapsed": 18094,
     "status": "ok",
     "timestamp": 1713297356922,
     "user": {
      "displayName": "Liyan Wang",
      "userId": "15329650402360340238"
     },
     "user_tz": 420
    },
    "id": "NBnhApPUd18E",
    "outputId": "bda2d2db-8303-4526-f894-fba1711f9bb4"
   },
   "outputs": [
    {
     "name": "stdout",
     "output_type": "stream",
     "text": [
      "Requirement already satisfied: xgboost in /usr/local/lib/python3.10/dist-packages (2.0.3)\n",
      "Collecting catboost\n",
      "  Downloading catboost-1.2.3-cp310-cp310-manylinux2014_x86_64.whl (98.5 MB)\n",
      "\u001b[2K     \u001b[90m━━━━━━━━━━━━━━━━━━━━━━━━━━━━━━━━━━━━━━━━\u001b[0m \u001b[32m98.5/98.5 MB\u001b[0m \u001b[31m8.3 MB/s\u001b[0m eta \u001b[36m0:00:00\u001b[0m\n",
      "\u001b[?25hRequirement already satisfied: lightgbm in /usr/local/lib/python3.10/dist-packages (4.1.0)\n",
      "Requirement already satisfied: numpy in /usr/local/lib/python3.10/dist-packages (from xgboost) (1.25.2)\n",
      "Requirement already satisfied: scipy in /usr/local/lib/python3.10/dist-packages (from xgboost) (1.11.4)\n",
      "Requirement already satisfied: graphviz in /usr/local/lib/python3.10/dist-packages (from catboost) (0.20.3)\n",
      "Requirement already satisfied: matplotlib in /usr/local/lib/python3.10/dist-packages (from catboost) (3.7.1)\n",
      "Requirement already satisfied: pandas>=0.24 in /usr/local/lib/python3.10/dist-packages (from catboost) (2.0.3)\n",
      "Requirement already satisfied: plotly in /usr/local/lib/python3.10/dist-packages (from catboost) (5.15.0)\n",
      "Requirement already satisfied: six in /usr/local/lib/python3.10/dist-packages (from catboost) (1.16.0)\n",
      "Requirement already satisfied: python-dateutil>=2.8.2 in /usr/local/lib/python3.10/dist-packages (from pandas>=0.24->catboost) (2.8.2)\n",
      "Requirement already satisfied: pytz>=2020.1 in /usr/local/lib/python3.10/dist-packages (from pandas>=0.24->catboost) (2023.4)\n",
      "Requirement already satisfied: tzdata>=2022.1 in /usr/local/lib/python3.10/dist-packages (from pandas>=0.24->catboost) (2024.1)\n",
      "Requirement already satisfied: contourpy>=1.0.1 in /usr/local/lib/python3.10/dist-packages (from matplotlib->catboost) (1.2.1)\n",
      "Requirement already satisfied: cycler>=0.10 in /usr/local/lib/python3.10/dist-packages (from matplotlib->catboost) (0.12.1)\n",
      "Requirement already satisfied: fonttools>=4.22.0 in /usr/local/lib/python3.10/dist-packages (from matplotlib->catboost) (4.51.0)\n",
      "Requirement already satisfied: kiwisolver>=1.0.1 in /usr/local/lib/python3.10/dist-packages (from matplotlib->catboost) (1.4.5)\n",
      "Requirement already satisfied: packaging>=20.0 in /usr/local/lib/python3.10/dist-packages (from matplotlib->catboost) (24.0)\n",
      "Requirement already satisfied: pillow>=6.2.0 in /usr/local/lib/python3.10/dist-packages (from matplotlib->catboost) (9.4.0)\n",
      "Requirement already satisfied: pyparsing>=2.3.1 in /usr/local/lib/python3.10/dist-packages (from matplotlib->catboost) (3.1.2)\n",
      "Requirement already satisfied: tenacity>=6.2.0 in /usr/local/lib/python3.10/dist-packages (from plotly->catboost) (8.2.3)\n",
      "Installing collected packages: catboost\n",
      "Successfully installed catboost-1.2.3\n",
      "Collecting adversarial-robustness-toolbox\n",
      "  Downloading adversarial_robustness_toolbox-1.17.1-py3-none-any.whl (1.7 MB)\n",
      "\u001b[2K     \u001b[90m━━━━━━━━━━━━━━━━━━━━━━━━━━━━━━━━━━━━━━━━\u001b[0m \u001b[32m1.7/1.7 MB\u001b[0m \u001b[31m9.9 MB/s\u001b[0m eta \u001b[36m0:00:00\u001b[0m\n",
      "\u001b[?25hRequirement already satisfied: numpy>=1.18.0 in /usr/local/lib/python3.10/dist-packages (from adversarial-robustness-toolbox) (1.25.2)\n",
      "Requirement already satisfied: scipy>=1.4.1 in /usr/local/lib/python3.10/dist-packages (from adversarial-robustness-toolbox) (1.11.4)\n",
      "Requirement already satisfied: scikit-learn>=0.22.2 in /usr/local/lib/python3.10/dist-packages (from adversarial-robustness-toolbox) (1.2.2)\n",
      "Requirement already satisfied: six in /usr/local/lib/python3.10/dist-packages (from adversarial-robustness-toolbox) (1.16.0)\n",
      "Requirement already satisfied: setuptools in /usr/local/lib/python3.10/dist-packages (from adversarial-robustness-toolbox) (67.7.2)\n",
      "Requirement already satisfied: tqdm in /usr/local/lib/python3.10/dist-packages (from adversarial-robustness-toolbox) (4.66.2)\n",
      "Requirement already satisfied: joblib>=1.1.1 in /usr/local/lib/python3.10/dist-packages (from scikit-learn>=0.22.2->adversarial-robustness-toolbox) (1.4.0)\n",
      "Requirement already satisfied: threadpoolctl>=2.0.0 in /usr/local/lib/python3.10/dist-packages (from scikit-learn>=0.22.2->adversarial-robustness-toolbox) (3.4.0)\n",
      "Installing collected packages: adversarial-robustness-toolbox\n",
      "Successfully installed adversarial-robustness-toolbox-1.17.1\n"
     ]
    }
   ],
   "source": [
    "!pip install xgboost catboost lightgbm\n",
    "!pip install adversarial-robustness-toolbox"
   ]
  },
  {
   "cell_type": "code",
   "execution_count": 6,
   "metadata": {
    "collapsed": true,
    "executionInfo": {
     "elapsed": 186,
     "status": "ok",
     "timestamp": 1713297710435,
     "user": {
      "displayName": "Liyan Wang",
      "userId": "15329650402360340238"
     },
     "user_tz": 420
    },
    "id": "xSYGiEgKryqK"
   },
   "outputs": [],
   "source": [
    "# Import libraries\n",
    "import numpy as np\n",
    "import pandas as pd\n",
    "\n",
    "import matplotlib.pyplot as plt\n",
    "import seaborn as sns\n",
    "\n",
    "from sklearn.preprocessing import LabelEncoder\n",
    "from sklearn.preprocessing import MinMaxScaler\n",
    "from sklearn.model_selection import train_test_split\n",
    "\n",
    "from sklearn.metrics import confusion_matrix\n",
    "from sklearn.linear_model import LogisticRegression\n",
    "from sklearn.svm import LinearSVC\n",
    "from sklearn import neighbors\n",
    "from sklearn.naive_bayes import GaussianNB\n",
    "from sklearn.tree import DecisionTreeClassifier\n",
    "from sklearn.ensemble import RandomForestClassifier\n",
    "import xgboost as xgb\n",
    "import lightgbm\n",
    "from lightgbm.sklearn import LGBMClassifier\n",
    "import catboost\n",
    "from catboost import CatBoostClassifier\n",
    "\n",
    "import tensorflow\n",
    "from tensorflow.keras.layers import Input, Dense, Dropout\n",
    "from tensorflow.keras.models import Model\n",
    "from keras.optimizers import Adam\n",
    "from tensorflow.keras.callbacks import EarlyStopping\n",
    "\n",
    "tensorflow.compat.v1.disable_eager_execution()\n",
    "\n",
    "from art.estimators.classification import KerasClassifier\n",
    "from art.estimators.classification import SklearnClassifier\n",
    "from art.attacks.evasion import FastGradientMethod\n",
    "from art.attacks.evasion import SaliencyMapMethod"
   ]
  },
  {
   "cell_type": "markdown",
   "metadata": {
    "id": "fXRtieO1xFtr"
   },
   "source": [
    "### Step 1: Load the Dataset"
   ]
  },
  {
   "cell_type": "code",
   "execution_count": 57,
   "metadata": {
    "colab": {
     "base_uri": "https://localhost:8080/",
     "height": 309
    },
    "executionInfo": {
     "elapsed": 396,
     "status": "ok",
     "timestamp": 1713303267715,
     "user": {
      "displayName": "Liyan Wang",
      "userId": "15329650402360340238"
     },
     "user_tz": 420
    },
    "id": "gyNMeQP_rysP",
    "outputId": "5589f53b-1ea1-4e74-e2ba-07c7b6fc48dc"
   },
   "outputs": [
    {
     "name": "stdout",
     "output_type": "stream",
     "text": [
      "Data shape (15036, 216)\n"
     ]
    },
    {
     "name": "stderr",
     "output_type": "stream",
     "text": [
      "<ipython-input-57-7df3b24baa43>:2: DtypeWarning: Columns (92) have mixed types. Specify dtype option on import or set low_memory=False.\n",
      "  drebin = pd.read_csv('/content/drive/MyDrive/Colab Notebooks/cs587/assignment4/data/dataset.csv')\n"
     ]
    },
    {
     "data": {
      "application/vnd.google.colaboratory.intrinsic+json": {
       "type": "dataframe",
       "variable_name": "drebin"
      },
      "text/html": [
       "\n",
       "  <div id=\"df-21f0bef7-b68e-4af5-bffe-f105dc1e7a23\" class=\"colab-df-container\">\n",
       "    <div>\n",
       "<style scoped>\n",
       "    .dataframe tbody tr th:only-of-type {\n",
       "        vertical-align: middle;\n",
       "    }\n",
       "\n",
       "    .dataframe tbody tr th {\n",
       "        vertical-align: top;\n",
       "    }\n",
       "\n",
       "    .dataframe thead th {\n",
       "        text-align: right;\n",
       "    }\n",
       "</style>\n",
       "<table border=\"1\" class=\"dataframe\">\n",
       "  <thead>\n",
       "    <tr style=\"text-align: right;\">\n",
       "      <th></th>\n",
       "      <th>transact</th>\n",
       "      <th>onServiceConnected</th>\n",
       "      <th>bindService</th>\n",
       "      <th>attachInterface</th>\n",
       "      <th>ServiceConnection</th>\n",
       "      <th>android.os.Binder</th>\n",
       "      <th>SEND_SMS</th>\n",
       "      <th>Ljava.lang.Class.getCanonicalName</th>\n",
       "      <th>Ljava.lang.Class.getMethods</th>\n",
       "      <th>Ljava.lang.Class.cast</th>\n",
       "      <th>...</th>\n",
       "      <th>READ_CONTACTS</th>\n",
       "      <th>DEVICE_POWER</th>\n",
       "      <th>HARDWARE_TEST</th>\n",
       "      <th>ACCESS_WIFI_STATE</th>\n",
       "      <th>WRITE_EXTERNAL_STORAGE</th>\n",
       "      <th>ACCESS_FINE_LOCATION</th>\n",
       "      <th>SET_WALLPAPER_HINTS</th>\n",
       "      <th>SET_PREFERRED_APPLICATIONS</th>\n",
       "      <th>WRITE_SECURE_SETTINGS</th>\n",
       "      <th>class</th>\n",
       "    </tr>\n",
       "  </thead>\n",
       "  <tbody>\n",
       "    <tr>\n",
       "      <th>0</th>\n",
       "      <td>0</td>\n",
       "      <td>0</td>\n",
       "      <td>0</td>\n",
       "      <td>0</td>\n",
       "      <td>0</td>\n",
       "      <td>0</td>\n",
       "      <td>1</td>\n",
       "      <td>0</td>\n",
       "      <td>0</td>\n",
       "      <td>0</td>\n",
       "      <td>...</td>\n",
       "      <td>0</td>\n",
       "      <td>0</td>\n",
       "      <td>0</td>\n",
       "      <td>0</td>\n",
       "      <td>1</td>\n",
       "      <td>0</td>\n",
       "      <td>0</td>\n",
       "      <td>0</td>\n",
       "      <td>0</td>\n",
       "      <td>S</td>\n",
       "    </tr>\n",
       "    <tr>\n",
       "      <th>1</th>\n",
       "      <td>0</td>\n",
       "      <td>0</td>\n",
       "      <td>0</td>\n",
       "      <td>0</td>\n",
       "      <td>0</td>\n",
       "      <td>0</td>\n",
       "      <td>1</td>\n",
       "      <td>0</td>\n",
       "      <td>0</td>\n",
       "      <td>0</td>\n",
       "      <td>...</td>\n",
       "      <td>0</td>\n",
       "      <td>0</td>\n",
       "      <td>0</td>\n",
       "      <td>0</td>\n",
       "      <td>1</td>\n",
       "      <td>0</td>\n",
       "      <td>0</td>\n",
       "      <td>0</td>\n",
       "      <td>0</td>\n",
       "      <td>S</td>\n",
       "    </tr>\n",
       "    <tr>\n",
       "      <th>2</th>\n",
       "      <td>0</td>\n",
       "      <td>0</td>\n",
       "      <td>0</td>\n",
       "      <td>0</td>\n",
       "      <td>0</td>\n",
       "      <td>0</td>\n",
       "      <td>1</td>\n",
       "      <td>0</td>\n",
       "      <td>0</td>\n",
       "      <td>0</td>\n",
       "      <td>...</td>\n",
       "      <td>0</td>\n",
       "      <td>0</td>\n",
       "      <td>0</td>\n",
       "      <td>0</td>\n",
       "      <td>0</td>\n",
       "      <td>0</td>\n",
       "      <td>0</td>\n",
       "      <td>0</td>\n",
       "      <td>0</td>\n",
       "      <td>S</td>\n",
       "    </tr>\n",
       "    <tr>\n",
       "      <th>3</th>\n",
       "      <td>0</td>\n",
       "      <td>0</td>\n",
       "      <td>0</td>\n",
       "      <td>0</td>\n",
       "      <td>0</td>\n",
       "      <td>0</td>\n",
       "      <td>0</td>\n",
       "      <td>0</td>\n",
       "      <td>0</td>\n",
       "      <td>1</td>\n",
       "      <td>...</td>\n",
       "      <td>0</td>\n",
       "      <td>0</td>\n",
       "      <td>0</td>\n",
       "      <td>1</td>\n",
       "      <td>1</td>\n",
       "      <td>1</td>\n",
       "      <td>0</td>\n",
       "      <td>0</td>\n",
       "      <td>0</td>\n",
       "      <td>S</td>\n",
       "    </tr>\n",
       "    <tr>\n",
       "      <th>4</th>\n",
       "      <td>0</td>\n",
       "      <td>0</td>\n",
       "      <td>0</td>\n",
       "      <td>0</td>\n",
       "      <td>0</td>\n",
       "      <td>0</td>\n",
       "      <td>0</td>\n",
       "      <td>0</td>\n",
       "      <td>0</td>\n",
       "      <td>0</td>\n",
       "      <td>...</td>\n",
       "      <td>0</td>\n",
       "      <td>0</td>\n",
       "      <td>0</td>\n",
       "      <td>1</td>\n",
       "      <td>0</td>\n",
       "      <td>1</td>\n",
       "      <td>0</td>\n",
       "      <td>0</td>\n",
       "      <td>0</td>\n",
       "      <td>S</td>\n",
       "    </tr>\n",
       "  </tbody>\n",
       "</table>\n",
       "<p>5 rows × 216 columns</p>\n",
       "</div>\n",
       "    <div class=\"colab-df-buttons\">\n",
       "\n",
       "  <div class=\"colab-df-container\">\n",
       "    <button class=\"colab-df-convert\" onclick=\"convertToInteractive('df-21f0bef7-b68e-4af5-bffe-f105dc1e7a23')\"\n",
       "            title=\"Convert this dataframe to an interactive table.\"\n",
       "            style=\"display:none;\">\n",
       "\n",
       "  <svg xmlns=\"http://www.w3.org/2000/svg\" height=\"24px\" viewBox=\"0 -960 960 960\">\n",
       "    <path d=\"M120-120v-720h720v720H120Zm60-500h600v-160H180v160Zm220 220h160v-160H400v160Zm0 220h160v-160H400v160ZM180-400h160v-160H180v160Zm440 0h160v-160H620v160ZM180-180h160v-160H180v160Zm440 0h160v-160H620v160Z\"/>\n",
       "  </svg>\n",
       "    </button>\n",
       "\n",
       "  <style>\n",
       "    .colab-df-container {\n",
       "      display:flex;\n",
       "      gap: 12px;\n",
       "    }\n",
       "\n",
       "    .colab-df-convert {\n",
       "      background-color: #E8F0FE;\n",
       "      border: none;\n",
       "      border-radius: 50%;\n",
       "      cursor: pointer;\n",
       "      display: none;\n",
       "      fill: #1967D2;\n",
       "      height: 32px;\n",
       "      padding: 0 0 0 0;\n",
       "      width: 32px;\n",
       "    }\n",
       "\n",
       "    .colab-df-convert:hover {\n",
       "      background-color: #E2EBFA;\n",
       "      box-shadow: 0px 1px 2px rgba(60, 64, 67, 0.3), 0px 1px 3px 1px rgba(60, 64, 67, 0.15);\n",
       "      fill: #174EA6;\n",
       "    }\n",
       "\n",
       "    .colab-df-buttons div {\n",
       "      margin-bottom: 4px;\n",
       "    }\n",
       "\n",
       "    [theme=dark] .colab-df-convert {\n",
       "      background-color: #3B4455;\n",
       "      fill: #D2E3FC;\n",
       "    }\n",
       "\n",
       "    [theme=dark] .colab-df-convert:hover {\n",
       "      background-color: #434B5C;\n",
       "      box-shadow: 0px 1px 3px 1px rgba(0, 0, 0, 0.15);\n",
       "      filter: drop-shadow(0px 1px 2px rgba(0, 0, 0, 0.3));\n",
       "      fill: #FFFFFF;\n",
       "    }\n",
       "  </style>\n",
       "\n",
       "    <script>\n",
       "      const buttonEl =\n",
       "        document.querySelector('#df-21f0bef7-b68e-4af5-bffe-f105dc1e7a23 button.colab-df-convert');\n",
       "      buttonEl.style.display =\n",
       "        google.colab.kernel.accessAllowed ? 'block' : 'none';\n",
       "\n",
       "      async function convertToInteractive(key) {\n",
       "        const element = document.querySelector('#df-21f0bef7-b68e-4af5-bffe-f105dc1e7a23');\n",
       "        const dataTable =\n",
       "          await google.colab.kernel.invokeFunction('convertToInteractive',\n",
       "                                                    [key], {});\n",
       "        if (!dataTable) return;\n",
       "\n",
       "        const docLinkHtml = 'Like what you see? Visit the ' +\n",
       "          '<a target=\"_blank\" href=https://colab.research.google.com/notebooks/data_table.ipynb>data table notebook</a>'\n",
       "          + ' to learn more about interactive tables.';\n",
       "        element.innerHTML = '';\n",
       "        dataTable['output_type'] = 'display_data';\n",
       "        await google.colab.output.renderOutput(dataTable, element);\n",
       "        const docLink = document.createElement('div');\n",
       "        docLink.innerHTML = docLinkHtml;\n",
       "        element.appendChild(docLink);\n",
       "      }\n",
       "    </script>\n",
       "  </div>\n",
       "\n",
       "\n",
       "<div id=\"df-fcf7efe4-0364-4685-90aa-842ec73aa358\">\n",
       "  <button class=\"colab-df-quickchart\" onclick=\"quickchart('df-fcf7efe4-0364-4685-90aa-842ec73aa358')\"\n",
       "            title=\"Suggest charts\"\n",
       "            style=\"display:none;\">\n",
       "\n",
       "<svg xmlns=\"http://www.w3.org/2000/svg\" height=\"24px\"viewBox=\"0 0 24 24\"\n",
       "     width=\"24px\">\n",
       "    <g>\n",
       "        <path d=\"M19 3H5c-1.1 0-2 .9-2 2v14c0 1.1.9 2 2 2h14c1.1 0 2-.9 2-2V5c0-1.1-.9-2-2-2zM9 17H7v-7h2v7zm4 0h-2V7h2v10zm4 0h-2v-4h2v4z\"/>\n",
       "    </g>\n",
       "</svg>\n",
       "  </button>\n",
       "\n",
       "<style>\n",
       "  .colab-df-quickchart {\n",
       "      --bg-color: #E8F0FE;\n",
       "      --fill-color: #1967D2;\n",
       "      --hover-bg-color: #E2EBFA;\n",
       "      --hover-fill-color: #174EA6;\n",
       "      --disabled-fill-color: #AAA;\n",
       "      --disabled-bg-color: #DDD;\n",
       "  }\n",
       "\n",
       "  [theme=dark] .colab-df-quickchart {\n",
       "      --bg-color: #3B4455;\n",
       "      --fill-color: #D2E3FC;\n",
       "      --hover-bg-color: #434B5C;\n",
       "      --hover-fill-color: #FFFFFF;\n",
       "      --disabled-bg-color: #3B4455;\n",
       "      --disabled-fill-color: #666;\n",
       "  }\n",
       "\n",
       "  .colab-df-quickchart {\n",
       "    background-color: var(--bg-color);\n",
       "    border: none;\n",
       "    border-radius: 50%;\n",
       "    cursor: pointer;\n",
       "    display: none;\n",
       "    fill: var(--fill-color);\n",
       "    height: 32px;\n",
       "    padding: 0;\n",
       "    width: 32px;\n",
       "  }\n",
       "\n",
       "  .colab-df-quickchart:hover {\n",
       "    background-color: var(--hover-bg-color);\n",
       "    box-shadow: 0 1px 2px rgba(60, 64, 67, 0.3), 0 1px 3px 1px rgba(60, 64, 67, 0.15);\n",
       "    fill: var(--button-hover-fill-color);\n",
       "  }\n",
       "\n",
       "  .colab-df-quickchart-complete:disabled,\n",
       "  .colab-df-quickchart-complete:disabled:hover {\n",
       "    background-color: var(--disabled-bg-color);\n",
       "    fill: var(--disabled-fill-color);\n",
       "    box-shadow: none;\n",
       "  }\n",
       "\n",
       "  .colab-df-spinner {\n",
       "    border: 2px solid var(--fill-color);\n",
       "    border-color: transparent;\n",
       "    border-bottom-color: var(--fill-color);\n",
       "    animation:\n",
       "      spin 1s steps(1) infinite;\n",
       "  }\n",
       "\n",
       "  @keyframes spin {\n",
       "    0% {\n",
       "      border-color: transparent;\n",
       "      border-bottom-color: var(--fill-color);\n",
       "      border-left-color: var(--fill-color);\n",
       "    }\n",
       "    20% {\n",
       "      border-color: transparent;\n",
       "      border-left-color: var(--fill-color);\n",
       "      border-top-color: var(--fill-color);\n",
       "    }\n",
       "    30% {\n",
       "      border-color: transparent;\n",
       "      border-left-color: var(--fill-color);\n",
       "      border-top-color: var(--fill-color);\n",
       "      border-right-color: var(--fill-color);\n",
       "    }\n",
       "    40% {\n",
       "      border-color: transparent;\n",
       "      border-right-color: var(--fill-color);\n",
       "      border-top-color: var(--fill-color);\n",
       "    }\n",
       "    60% {\n",
       "      border-color: transparent;\n",
       "      border-right-color: var(--fill-color);\n",
       "    }\n",
       "    80% {\n",
       "      border-color: transparent;\n",
       "      border-right-color: var(--fill-color);\n",
       "      border-bottom-color: var(--fill-color);\n",
       "    }\n",
       "    90% {\n",
       "      border-color: transparent;\n",
       "      border-bottom-color: var(--fill-color);\n",
       "    }\n",
       "  }\n",
       "</style>\n",
       "\n",
       "  <script>\n",
       "    async function quickchart(key) {\n",
       "      const quickchartButtonEl =\n",
       "        document.querySelector('#' + key + ' button');\n",
       "      quickchartButtonEl.disabled = true;  // To prevent multiple clicks.\n",
       "      quickchartButtonEl.classList.add('colab-df-spinner');\n",
       "      try {\n",
       "        const charts = await google.colab.kernel.invokeFunction(\n",
       "            'suggestCharts', [key], {});\n",
       "      } catch (error) {\n",
       "        console.error('Error during call to suggestCharts:', error);\n",
       "      }\n",
       "      quickchartButtonEl.classList.remove('colab-df-spinner');\n",
       "      quickchartButtonEl.classList.add('colab-df-quickchart-complete');\n",
       "    }\n",
       "    (() => {\n",
       "      let quickchartButtonEl =\n",
       "        document.querySelector('#df-fcf7efe4-0364-4685-90aa-842ec73aa358 button');\n",
       "      quickchartButtonEl.style.display =\n",
       "        google.colab.kernel.accessAllowed ? 'block' : 'none';\n",
       "    })();\n",
       "  </script>\n",
       "</div>\n",
       "\n",
       "    </div>\n",
       "  </div>\n"
      ],
      "text/plain": [
       "   transact  onServiceConnected  bindService  attachInterface  \\\n",
       "0         0                   0            0                0   \n",
       "1         0                   0            0                0   \n",
       "2         0                   0            0                0   \n",
       "3         0                   0            0                0   \n",
       "4         0                   0            0                0   \n",
       "\n",
       "   ServiceConnection  android.os.Binder  SEND_SMS  \\\n",
       "0                  0                  0         1   \n",
       "1                  0                  0         1   \n",
       "2                  0                  0         1   \n",
       "3                  0                  0         0   \n",
       "4                  0                  0         0   \n",
       "\n",
       "   Ljava.lang.Class.getCanonicalName  Ljava.lang.Class.getMethods  \\\n",
       "0                                  0                            0   \n",
       "1                                  0                            0   \n",
       "2                                  0                            0   \n",
       "3                                  0                            0   \n",
       "4                                  0                            0   \n",
       "\n",
       "   Ljava.lang.Class.cast  ...  READ_CONTACTS  DEVICE_POWER  HARDWARE_TEST  \\\n",
       "0                      0  ...              0             0              0   \n",
       "1                      0  ...              0             0              0   \n",
       "2                      0  ...              0             0              0   \n",
       "3                      1  ...              0             0              0   \n",
       "4                      0  ...              0             0              0   \n",
       "\n",
       "   ACCESS_WIFI_STATE  WRITE_EXTERNAL_STORAGE  ACCESS_FINE_LOCATION  \\\n",
       "0                  0                       1                     0   \n",
       "1                  0                       1                     0   \n",
       "2                  0                       0                     0   \n",
       "3                  1                       1                     1   \n",
       "4                  1                       0                     1   \n",
       "\n",
       "   SET_WALLPAPER_HINTS  SET_PREFERRED_APPLICATIONS  WRITE_SECURE_SETTINGS  \\\n",
       "0                    0                           0                      0   \n",
       "1                    0                           0                      0   \n",
       "2                    0                           0                      0   \n",
       "3                    0                           0                      0   \n",
       "4                    0                           0                      0   \n",
       "\n",
       "   class  \n",
       "0      S  \n",
       "1      S  \n",
       "2      S  \n",
       "3      S  \n",
       "4      S  \n",
       "\n",
       "[5 rows x 216 columns]"
      ]
     },
     "execution_count": 57,
     "metadata": {},
     "output_type": "execute_result"
    }
   ],
   "source": [
    "# Read the dataset\n",
    "drebin = pd.read_csv('/content/drive/MyDrive/Colab Notebooks/cs587/assignment4/data/dataset.csv')\n",
    "\n",
    "# Display the shape of the dataset\n",
    "print('Data shape', drebin.shape)\n",
    "\n",
    "# Display the first 10 messages in the dataset\n",
    "drebin.head(5)"
   ]
  },
  {
   "cell_type": "code",
   "execution_count": 58,
   "metadata": {
    "colab": {
     "base_uri": "https://localhost:8080/"
    },
    "executionInfo": {
     "elapsed": 188,
     "status": "ok",
     "timestamp": 1713303271042,
     "user": {
      "displayName": "Liyan Wang",
      "userId": "15329650402360340238"
     },
     "user_tz": 420
    },
    "id": "TPGL9qKK6Oma",
    "outputId": "dcd424f0-59e3-4018-94df-d4cd4dfffdcb"
   },
   "outputs": [
    {
     "name": "stdout",
     "output_type": "stream",
     "text": [
      "<class 'pandas.core.frame.DataFrame'>\n",
      "RangeIndex: 15036 entries, 0 to 15035\n",
      "Columns: 216 entries, transact to class\n",
      "dtypes: int64(214), object(2)\n",
      "memory usage: 24.8+ MB\n"
     ]
    }
   ],
   "source": [
    "# Data Info\n",
    "drebin.info()"
   ]
  },
  {
   "cell_type": "code",
   "execution_count": 59,
   "metadata": {
    "colab": {
     "base_uri": "https://localhost:8080/",
     "height": 350
    },
    "executionInfo": {
     "elapsed": 622,
     "status": "ok",
     "timestamp": 1713303273584,
     "user": {
      "displayName": "Liyan Wang",
      "userId": "15329650402360340238"
     },
     "user_tz": 420
    },
    "id": "1CRsdljKd18I",
    "outputId": "93d4b8ee-414a-49d9-d070-750ca0a65ff3"
   },
   "outputs": [
    {
     "data": {
      "application/vnd.google.colaboratory.intrinsic+json": {
       "type": "dataframe"
      },
      "text/html": [
       "\n",
       "  <div id=\"df-46570b34-a5cb-4760-b976-c1975c448f71\" class=\"colab-df-container\">\n",
       "    <div>\n",
       "<style scoped>\n",
       "    .dataframe tbody tr th:only-of-type {\n",
       "        vertical-align: middle;\n",
       "    }\n",
       "\n",
       "    .dataframe tbody tr th {\n",
       "        vertical-align: top;\n",
       "    }\n",
       "\n",
       "    .dataframe thead th {\n",
       "        text-align: right;\n",
       "    }\n",
       "</style>\n",
       "<table border=\"1\" class=\"dataframe\">\n",
       "  <thead>\n",
       "    <tr style=\"text-align: right;\">\n",
       "      <th></th>\n",
       "      <th>transact</th>\n",
       "      <th>onServiceConnected</th>\n",
       "      <th>bindService</th>\n",
       "      <th>attachInterface</th>\n",
       "      <th>ServiceConnection</th>\n",
       "      <th>android.os.Binder</th>\n",
       "      <th>SEND_SMS</th>\n",
       "      <th>Ljava.lang.Class.getCanonicalName</th>\n",
       "      <th>Ljava.lang.Class.getMethods</th>\n",
       "      <th>Ljava.lang.Class.cast</th>\n",
       "      <th>...</th>\n",
       "      <th>SET_ORIENTATION</th>\n",
       "      <th>READ_CONTACTS</th>\n",
       "      <th>DEVICE_POWER</th>\n",
       "      <th>HARDWARE_TEST</th>\n",
       "      <th>ACCESS_WIFI_STATE</th>\n",
       "      <th>WRITE_EXTERNAL_STORAGE</th>\n",
       "      <th>ACCESS_FINE_LOCATION</th>\n",
       "      <th>SET_WALLPAPER_HINTS</th>\n",
       "      <th>SET_PREFERRED_APPLICATIONS</th>\n",
       "      <th>WRITE_SECURE_SETTINGS</th>\n",
       "    </tr>\n",
       "  </thead>\n",
       "  <tbody>\n",
       "    <tr>\n",
       "      <th>count</th>\n",
       "      <td>15036.000000</td>\n",
       "      <td>15036.000000</td>\n",
       "      <td>15036.000000</td>\n",
       "      <td>15036.000000</td>\n",
       "      <td>15036.000000</td>\n",
       "      <td>15036.000000</td>\n",
       "      <td>15036.000000</td>\n",
       "      <td>15036.000000</td>\n",
       "      <td>15036.000000</td>\n",
       "      <td>15036.000000</td>\n",
       "      <td>...</td>\n",
       "      <td>15036.000000</td>\n",
       "      <td>15036.000000</td>\n",
       "      <td>15036.000000</td>\n",
       "      <td>15036.000000</td>\n",
       "      <td>15036.000000</td>\n",
       "      <td>15036.000000</td>\n",
       "      <td>15036.000000</td>\n",
       "      <td>15036.000000</td>\n",
       "      <td>15036.000000</td>\n",
       "      <td>15036.000000</td>\n",
       "    </tr>\n",
       "    <tr>\n",
       "      <th>mean</th>\n",
       "      <td>0.426443</td>\n",
       "      <td>0.446595</td>\n",
       "      <td>0.442671</td>\n",
       "      <td>0.413208</td>\n",
       "      <td>0.444932</td>\n",
       "      <td>0.486898</td>\n",
       "      <td>0.236632</td>\n",
       "      <td>0.330806</td>\n",
       "      <td>0.282389</td>\n",
       "      <td>0.312583</td>\n",
       "      <td>...</td>\n",
       "      <td>0.007050</td>\n",
       "      <td>0.233307</td>\n",
       "      <td>0.017425</td>\n",
       "      <td>0.004256</td>\n",
       "      <td>0.434424</td>\n",
       "      <td>0.666135</td>\n",
       "      <td>0.290835</td>\n",
       "      <td>0.016028</td>\n",
       "      <td>0.007050</td>\n",
       "      <td>0.044959</td>\n",
       "    </tr>\n",
       "    <tr>\n",
       "      <th>std</th>\n",
       "      <td>0.494576</td>\n",
       "      <td>0.497156</td>\n",
       "      <td>0.496719</td>\n",
       "      <td>0.492426</td>\n",
       "      <td>0.496975</td>\n",
       "      <td>0.499845</td>\n",
       "      <td>0.425029</td>\n",
       "      <td>0.470519</td>\n",
       "      <td>0.450177</td>\n",
       "      <td>0.463561</td>\n",
       "      <td>...</td>\n",
       "      <td>0.083669</td>\n",
       "      <td>0.422950</td>\n",
       "      <td>0.130852</td>\n",
       "      <td>0.065105</td>\n",
       "      <td>0.495698</td>\n",
       "      <td>0.471608</td>\n",
       "      <td>0.454163</td>\n",
       "      <td>0.125588</td>\n",
       "      <td>0.083669</td>\n",
       "      <td>0.207220</td>\n",
       "    </tr>\n",
       "    <tr>\n",
       "      <th>min</th>\n",
       "      <td>0.000000</td>\n",
       "      <td>0.000000</td>\n",
       "      <td>0.000000</td>\n",
       "      <td>0.000000</td>\n",
       "      <td>0.000000</td>\n",
       "      <td>0.000000</td>\n",
       "      <td>0.000000</td>\n",
       "      <td>0.000000</td>\n",
       "      <td>0.000000</td>\n",
       "      <td>0.000000</td>\n",
       "      <td>...</td>\n",
       "      <td>0.000000</td>\n",
       "      <td>0.000000</td>\n",
       "      <td>0.000000</td>\n",
       "      <td>0.000000</td>\n",
       "      <td>0.000000</td>\n",
       "      <td>0.000000</td>\n",
       "      <td>0.000000</td>\n",
       "      <td>0.000000</td>\n",
       "      <td>0.000000</td>\n",
       "      <td>0.000000</td>\n",
       "    </tr>\n",
       "    <tr>\n",
       "      <th>25%</th>\n",
       "      <td>0.000000</td>\n",
       "      <td>0.000000</td>\n",
       "      <td>0.000000</td>\n",
       "      <td>0.000000</td>\n",
       "      <td>0.000000</td>\n",
       "      <td>0.000000</td>\n",
       "      <td>0.000000</td>\n",
       "      <td>0.000000</td>\n",
       "      <td>0.000000</td>\n",
       "      <td>0.000000</td>\n",
       "      <td>...</td>\n",
       "      <td>0.000000</td>\n",
       "      <td>0.000000</td>\n",
       "      <td>0.000000</td>\n",
       "      <td>0.000000</td>\n",
       "      <td>0.000000</td>\n",
       "      <td>0.000000</td>\n",
       "      <td>0.000000</td>\n",
       "      <td>0.000000</td>\n",
       "      <td>0.000000</td>\n",
       "      <td>0.000000</td>\n",
       "    </tr>\n",
       "    <tr>\n",
       "      <th>50%</th>\n",
       "      <td>0.000000</td>\n",
       "      <td>0.000000</td>\n",
       "      <td>0.000000</td>\n",
       "      <td>0.000000</td>\n",
       "      <td>0.000000</td>\n",
       "      <td>0.000000</td>\n",
       "      <td>0.000000</td>\n",
       "      <td>0.000000</td>\n",
       "      <td>0.000000</td>\n",
       "      <td>0.000000</td>\n",
       "      <td>...</td>\n",
       "      <td>0.000000</td>\n",
       "      <td>0.000000</td>\n",
       "      <td>0.000000</td>\n",
       "      <td>0.000000</td>\n",
       "      <td>0.000000</td>\n",
       "      <td>1.000000</td>\n",
       "      <td>0.000000</td>\n",
       "      <td>0.000000</td>\n",
       "      <td>0.000000</td>\n",
       "      <td>0.000000</td>\n",
       "    </tr>\n",
       "    <tr>\n",
       "      <th>75%</th>\n",
       "      <td>1.000000</td>\n",
       "      <td>1.000000</td>\n",
       "      <td>1.000000</td>\n",
       "      <td>1.000000</td>\n",
       "      <td>1.000000</td>\n",
       "      <td>1.000000</td>\n",
       "      <td>0.000000</td>\n",
       "      <td>1.000000</td>\n",
       "      <td>1.000000</td>\n",
       "      <td>1.000000</td>\n",
       "      <td>...</td>\n",
       "      <td>0.000000</td>\n",
       "      <td>0.000000</td>\n",
       "      <td>0.000000</td>\n",
       "      <td>0.000000</td>\n",
       "      <td>1.000000</td>\n",
       "      <td>1.000000</td>\n",
       "      <td>1.000000</td>\n",
       "      <td>0.000000</td>\n",
       "      <td>0.000000</td>\n",
       "      <td>0.000000</td>\n",
       "    </tr>\n",
       "    <tr>\n",
       "      <th>max</th>\n",
       "      <td>1.000000</td>\n",
       "      <td>1.000000</td>\n",
       "      <td>1.000000</td>\n",
       "      <td>1.000000</td>\n",
       "      <td>1.000000</td>\n",
       "      <td>1.000000</td>\n",
       "      <td>1.000000</td>\n",
       "      <td>1.000000</td>\n",
       "      <td>1.000000</td>\n",
       "      <td>1.000000</td>\n",
       "      <td>...</td>\n",
       "      <td>1.000000</td>\n",
       "      <td>1.000000</td>\n",
       "      <td>1.000000</td>\n",
       "      <td>1.000000</td>\n",
       "      <td>1.000000</td>\n",
       "      <td>1.000000</td>\n",
       "      <td>1.000000</td>\n",
       "      <td>1.000000</td>\n",
       "      <td>1.000000</td>\n",
       "      <td>1.000000</td>\n",
       "    </tr>\n",
       "  </tbody>\n",
       "</table>\n",
       "<p>8 rows × 214 columns</p>\n",
       "</div>\n",
       "    <div class=\"colab-df-buttons\">\n",
       "\n",
       "  <div class=\"colab-df-container\">\n",
       "    <button class=\"colab-df-convert\" onclick=\"convertToInteractive('df-46570b34-a5cb-4760-b976-c1975c448f71')\"\n",
       "            title=\"Convert this dataframe to an interactive table.\"\n",
       "            style=\"display:none;\">\n",
       "\n",
       "  <svg xmlns=\"http://www.w3.org/2000/svg\" height=\"24px\" viewBox=\"0 -960 960 960\">\n",
       "    <path d=\"M120-120v-720h720v720H120Zm60-500h600v-160H180v160Zm220 220h160v-160H400v160Zm0 220h160v-160H400v160ZM180-400h160v-160H180v160Zm440 0h160v-160H620v160ZM180-180h160v-160H180v160Zm440 0h160v-160H620v160Z\"/>\n",
       "  </svg>\n",
       "    </button>\n",
       "\n",
       "  <style>\n",
       "    .colab-df-container {\n",
       "      display:flex;\n",
       "      gap: 12px;\n",
       "    }\n",
       "\n",
       "    .colab-df-convert {\n",
       "      background-color: #E8F0FE;\n",
       "      border: none;\n",
       "      border-radius: 50%;\n",
       "      cursor: pointer;\n",
       "      display: none;\n",
       "      fill: #1967D2;\n",
       "      height: 32px;\n",
       "      padding: 0 0 0 0;\n",
       "      width: 32px;\n",
       "    }\n",
       "\n",
       "    .colab-df-convert:hover {\n",
       "      background-color: #E2EBFA;\n",
       "      box-shadow: 0px 1px 2px rgba(60, 64, 67, 0.3), 0px 1px 3px 1px rgba(60, 64, 67, 0.15);\n",
       "      fill: #174EA6;\n",
       "    }\n",
       "\n",
       "    .colab-df-buttons div {\n",
       "      margin-bottom: 4px;\n",
       "    }\n",
       "\n",
       "    [theme=dark] .colab-df-convert {\n",
       "      background-color: #3B4455;\n",
       "      fill: #D2E3FC;\n",
       "    }\n",
       "\n",
       "    [theme=dark] .colab-df-convert:hover {\n",
       "      background-color: #434B5C;\n",
       "      box-shadow: 0px 1px 3px 1px rgba(0, 0, 0, 0.15);\n",
       "      filter: drop-shadow(0px 1px 2px rgba(0, 0, 0, 0.3));\n",
       "      fill: #FFFFFF;\n",
       "    }\n",
       "  </style>\n",
       "\n",
       "    <script>\n",
       "      const buttonEl =\n",
       "        document.querySelector('#df-46570b34-a5cb-4760-b976-c1975c448f71 button.colab-df-convert');\n",
       "      buttonEl.style.display =\n",
       "        google.colab.kernel.accessAllowed ? 'block' : 'none';\n",
       "\n",
       "      async function convertToInteractive(key) {\n",
       "        const element = document.querySelector('#df-46570b34-a5cb-4760-b976-c1975c448f71');\n",
       "        const dataTable =\n",
       "          await google.colab.kernel.invokeFunction('convertToInteractive',\n",
       "                                                    [key], {});\n",
       "        if (!dataTable) return;\n",
       "\n",
       "        const docLinkHtml = 'Like what you see? Visit the ' +\n",
       "          '<a target=\"_blank\" href=https://colab.research.google.com/notebooks/data_table.ipynb>data table notebook</a>'\n",
       "          + ' to learn more about interactive tables.';\n",
       "        element.innerHTML = '';\n",
       "        dataTable['output_type'] = 'display_data';\n",
       "        await google.colab.output.renderOutput(dataTable, element);\n",
       "        const docLink = document.createElement('div');\n",
       "        docLink.innerHTML = docLinkHtml;\n",
       "        element.appendChild(docLink);\n",
       "      }\n",
       "    </script>\n",
       "  </div>\n",
       "\n",
       "\n",
       "<div id=\"df-24faee96-44ca-4389-80b9-456330eccf13\">\n",
       "  <button class=\"colab-df-quickchart\" onclick=\"quickchart('df-24faee96-44ca-4389-80b9-456330eccf13')\"\n",
       "            title=\"Suggest charts\"\n",
       "            style=\"display:none;\">\n",
       "\n",
       "<svg xmlns=\"http://www.w3.org/2000/svg\" height=\"24px\"viewBox=\"0 0 24 24\"\n",
       "     width=\"24px\">\n",
       "    <g>\n",
       "        <path d=\"M19 3H5c-1.1 0-2 .9-2 2v14c0 1.1.9 2 2 2h14c1.1 0 2-.9 2-2V5c0-1.1-.9-2-2-2zM9 17H7v-7h2v7zm4 0h-2V7h2v10zm4 0h-2v-4h2v4z\"/>\n",
       "    </g>\n",
       "</svg>\n",
       "  </button>\n",
       "\n",
       "<style>\n",
       "  .colab-df-quickchart {\n",
       "      --bg-color: #E8F0FE;\n",
       "      --fill-color: #1967D2;\n",
       "      --hover-bg-color: #E2EBFA;\n",
       "      --hover-fill-color: #174EA6;\n",
       "      --disabled-fill-color: #AAA;\n",
       "      --disabled-bg-color: #DDD;\n",
       "  }\n",
       "\n",
       "  [theme=dark] .colab-df-quickchart {\n",
       "      --bg-color: #3B4455;\n",
       "      --fill-color: #D2E3FC;\n",
       "      --hover-bg-color: #434B5C;\n",
       "      --hover-fill-color: #FFFFFF;\n",
       "      --disabled-bg-color: #3B4455;\n",
       "      --disabled-fill-color: #666;\n",
       "  }\n",
       "\n",
       "  .colab-df-quickchart {\n",
       "    background-color: var(--bg-color);\n",
       "    border: none;\n",
       "    border-radius: 50%;\n",
       "    cursor: pointer;\n",
       "    display: none;\n",
       "    fill: var(--fill-color);\n",
       "    height: 32px;\n",
       "    padding: 0;\n",
       "    width: 32px;\n",
       "  }\n",
       "\n",
       "  .colab-df-quickchart:hover {\n",
       "    background-color: var(--hover-bg-color);\n",
       "    box-shadow: 0 1px 2px rgba(60, 64, 67, 0.3), 0 1px 3px 1px rgba(60, 64, 67, 0.15);\n",
       "    fill: var(--button-hover-fill-color);\n",
       "  }\n",
       "\n",
       "  .colab-df-quickchart-complete:disabled,\n",
       "  .colab-df-quickchart-complete:disabled:hover {\n",
       "    background-color: var(--disabled-bg-color);\n",
       "    fill: var(--disabled-fill-color);\n",
       "    box-shadow: none;\n",
       "  }\n",
       "\n",
       "  .colab-df-spinner {\n",
       "    border: 2px solid var(--fill-color);\n",
       "    border-color: transparent;\n",
       "    border-bottom-color: var(--fill-color);\n",
       "    animation:\n",
       "      spin 1s steps(1) infinite;\n",
       "  }\n",
       "\n",
       "  @keyframes spin {\n",
       "    0% {\n",
       "      border-color: transparent;\n",
       "      border-bottom-color: var(--fill-color);\n",
       "      border-left-color: var(--fill-color);\n",
       "    }\n",
       "    20% {\n",
       "      border-color: transparent;\n",
       "      border-left-color: var(--fill-color);\n",
       "      border-top-color: var(--fill-color);\n",
       "    }\n",
       "    30% {\n",
       "      border-color: transparent;\n",
       "      border-left-color: var(--fill-color);\n",
       "      border-top-color: var(--fill-color);\n",
       "      border-right-color: var(--fill-color);\n",
       "    }\n",
       "    40% {\n",
       "      border-color: transparent;\n",
       "      border-right-color: var(--fill-color);\n",
       "      border-top-color: var(--fill-color);\n",
       "    }\n",
       "    60% {\n",
       "      border-color: transparent;\n",
       "      border-right-color: var(--fill-color);\n",
       "    }\n",
       "    80% {\n",
       "      border-color: transparent;\n",
       "      border-right-color: var(--fill-color);\n",
       "      border-bottom-color: var(--fill-color);\n",
       "    }\n",
       "    90% {\n",
       "      border-color: transparent;\n",
       "      border-bottom-color: var(--fill-color);\n",
       "    }\n",
       "  }\n",
       "</style>\n",
       "\n",
       "  <script>\n",
       "    async function quickchart(key) {\n",
       "      const quickchartButtonEl =\n",
       "        document.querySelector('#' + key + ' button');\n",
       "      quickchartButtonEl.disabled = true;  // To prevent multiple clicks.\n",
       "      quickchartButtonEl.classList.add('colab-df-spinner');\n",
       "      try {\n",
       "        const charts = await google.colab.kernel.invokeFunction(\n",
       "            'suggestCharts', [key], {});\n",
       "      } catch (error) {\n",
       "        console.error('Error during call to suggestCharts:', error);\n",
       "      }\n",
       "      quickchartButtonEl.classList.remove('colab-df-spinner');\n",
       "      quickchartButtonEl.classList.add('colab-df-quickchart-complete');\n",
       "    }\n",
       "    (() => {\n",
       "      let quickchartButtonEl =\n",
       "        document.querySelector('#df-24faee96-44ca-4389-80b9-456330eccf13 button');\n",
       "      quickchartButtonEl.style.display =\n",
       "        google.colab.kernel.accessAllowed ? 'block' : 'none';\n",
       "    })();\n",
       "  </script>\n",
       "</div>\n",
       "\n",
       "    </div>\n",
       "  </div>\n"
      ],
      "text/plain": [
       "           transact  onServiceConnected   bindService  attachInterface  \\\n",
       "count  15036.000000        15036.000000  15036.000000     15036.000000   \n",
       "mean       0.426443            0.446595      0.442671         0.413208   \n",
       "std        0.494576            0.497156      0.496719         0.492426   \n",
       "min        0.000000            0.000000      0.000000         0.000000   \n",
       "25%        0.000000            0.000000      0.000000         0.000000   \n",
       "50%        0.000000            0.000000      0.000000         0.000000   \n",
       "75%        1.000000            1.000000      1.000000         1.000000   \n",
       "max        1.000000            1.000000      1.000000         1.000000   \n",
       "\n",
       "       ServiceConnection  android.os.Binder      SEND_SMS  \\\n",
       "count       15036.000000       15036.000000  15036.000000   \n",
       "mean            0.444932           0.486898      0.236632   \n",
       "std             0.496975           0.499845      0.425029   \n",
       "min             0.000000           0.000000      0.000000   \n",
       "25%             0.000000           0.000000      0.000000   \n",
       "50%             0.000000           0.000000      0.000000   \n",
       "75%             1.000000           1.000000      0.000000   \n",
       "max             1.000000           1.000000      1.000000   \n",
       "\n",
       "       Ljava.lang.Class.getCanonicalName  Ljava.lang.Class.getMethods  \\\n",
       "count                       15036.000000                 15036.000000   \n",
       "mean                            0.330806                     0.282389   \n",
       "std                             0.470519                     0.450177   \n",
       "min                             0.000000                     0.000000   \n",
       "25%                             0.000000                     0.000000   \n",
       "50%                             0.000000                     0.000000   \n",
       "75%                             1.000000                     1.000000   \n",
       "max                             1.000000                     1.000000   \n",
       "\n",
       "       Ljava.lang.Class.cast  ...  SET_ORIENTATION  READ_CONTACTS  \\\n",
       "count           15036.000000  ...     15036.000000   15036.000000   \n",
       "mean                0.312583  ...         0.007050       0.233307   \n",
       "std                 0.463561  ...         0.083669       0.422950   \n",
       "min                 0.000000  ...         0.000000       0.000000   \n",
       "25%                 0.000000  ...         0.000000       0.000000   \n",
       "50%                 0.000000  ...         0.000000       0.000000   \n",
       "75%                 1.000000  ...         0.000000       0.000000   \n",
       "max                 1.000000  ...         1.000000       1.000000   \n",
       "\n",
       "       DEVICE_POWER  HARDWARE_TEST  ACCESS_WIFI_STATE  WRITE_EXTERNAL_STORAGE  \\\n",
       "count  15036.000000   15036.000000       15036.000000            15036.000000   \n",
       "mean       0.017425       0.004256           0.434424                0.666135   \n",
       "std        0.130852       0.065105           0.495698                0.471608   \n",
       "min        0.000000       0.000000           0.000000                0.000000   \n",
       "25%        0.000000       0.000000           0.000000                0.000000   \n",
       "50%        0.000000       0.000000           0.000000                1.000000   \n",
       "75%        0.000000       0.000000           1.000000                1.000000   \n",
       "max        1.000000       1.000000           1.000000                1.000000   \n",
       "\n",
       "       ACCESS_FINE_LOCATION  SET_WALLPAPER_HINTS  SET_PREFERRED_APPLICATIONS  \\\n",
       "count          15036.000000         15036.000000                15036.000000   \n",
       "mean               0.290835             0.016028                    0.007050   \n",
       "std                0.454163             0.125588                    0.083669   \n",
       "min                0.000000             0.000000                    0.000000   \n",
       "25%                0.000000             0.000000                    0.000000   \n",
       "50%                0.000000             0.000000                    0.000000   \n",
       "75%                1.000000             0.000000                    0.000000   \n",
       "max                1.000000             1.000000                    1.000000   \n",
       "\n",
       "       WRITE_SECURE_SETTINGS  \n",
       "count           15036.000000  \n",
       "mean                0.044959  \n",
       "std                 0.207220  \n",
       "min                 0.000000  \n",
       "25%                 0.000000  \n",
       "50%                 0.000000  \n",
       "75%                 0.000000  \n",
       "max                 1.000000  \n",
       "\n",
       "[8 rows x 214 columns]"
      ]
     },
     "execution_count": 59,
     "metadata": {},
     "output_type": "execute_result"
    }
   ],
   "source": [
    "# Data Description\n",
    "drebin.describe()"
   ]
  },
  {
   "cell_type": "code",
   "execution_count": 60,
   "metadata": {
    "colab": {
     "base_uri": "https://localhost:8080/"
    },
    "executionInfo": {
     "elapsed": 152,
     "status": "ok",
     "timestamp": 1713303275959,
     "user": {
      "displayName": "Liyan Wang",
      "userId": "15329650402360340238"
     },
     "user_tz": 420
    },
    "id": "V1os7nDkd18I",
    "outputId": "91ec315b-88de-4b8e-f917-d18cc060208e"
   },
   "outputs": [
    {
     "data": {
      "text/plain": [
       "transact                       0\n",
       "ACCOUNT_MANAGER                0\n",
       "WRITE_SETTINGS                 0\n",
       "REBOOT                         0\n",
       "BLUETOOTH_ADMIN                0\n",
       "                              ..\n",
       "WAKE_LOCK                      0\n",
       "RECEIVE_BOOT_COMPLETED         0\n",
       "RESTART_PACKAGES               0\n",
       "Ljava.lang.Class.getPackage    0\n",
       "class                          0\n",
       "Length: 216, dtype: int64"
      ]
     },
     "execution_count": 60,
     "metadata": {},
     "output_type": "execute_result"
    }
   ],
   "source": [
    "# Check Missing Values\n",
    "drebin.isnull().sum().sort_values(ascending=False)"
   ]
  },
  {
   "cell_type": "code",
   "execution_count": 61,
   "metadata": {
    "colab": {
     "base_uri": "https://localhost:8080/"
    },
    "executionInfo": {
     "elapsed": 151,
     "status": "ok",
     "timestamp": 1713303278591,
     "user": {
      "displayName": "Liyan Wang",
      "userId": "15329650402360340238"
     },
     "user_tz": 420
    },
    "id": "cvJTq00ld18I",
    "outputId": "a6b8dcf2-773d-4fa1-e1c1-ed8766190be8"
   },
   "outputs": [
    {
     "data": {
      "text/plain": [
       "Index(['TelephonyManager.getSimCountryIso', 'class'], dtype='object')"
      ]
     },
     "execution_count": 61,
     "metadata": {},
     "output_type": "execute_result"
    }
   ],
   "source": [
    "# Select the Non-numerical Features\n",
    "drebin.select_dtypes(include='object').columns"
   ]
  },
  {
   "cell_type": "code",
   "execution_count": 62,
   "metadata": {
    "colab": {
     "base_uri": "https://localhost:8080/"
    },
    "executionInfo": {
     "elapsed": 157,
     "status": "ok",
     "timestamp": 1713303279895,
     "user": {
      "displayName": "Liyan Wang",
      "userId": "15329650402360340238"
     },
     "user_tz": 420
    },
    "id": "po7Cr9vtd18J",
    "outputId": "b62e099e-bfce-4347-872e-9e198c5b1953"
   },
   "outputs": [
    {
     "data": {
      "text/plain": [
       "dtype('float64')"
      ]
     },
     "execution_count": 62,
     "metadata": {},
     "output_type": "execute_result"
    }
   ],
   "source": [
    "# Map Object Column into Numerical Column\n",
    "dict_object_to_number = {'0':0, '1':1, 0:0, 1:1}\n",
    "\n",
    "drebin['TelephonyManager.getSimCountryIso'] = drebin['TelephonyManager.getSimCountryIso'].map(dict_object_to_number)\n",
    "drebin['TelephonyManager.getSimCountryIso'].dtype"
   ]
  },
  {
   "cell_type": "code",
   "execution_count": 63,
   "metadata": {
    "colab": {
     "base_uri": "https://localhost:8080/"
    },
    "executionInfo": {
     "elapsed": 166,
     "status": "ok",
     "timestamp": 1713303282423,
     "user": {
      "displayName": "Liyan Wang",
      "userId": "15329650402360340238"
     },
     "user_tz": 420
    },
    "id": "VfP4HRO-d18J",
    "outputId": "ec521ae4-564f-477a-8e98-e871f7874dfc"
   },
   "outputs": [
    {
     "data": {
      "text/plain": [
       "TelephonyManager.getSimCountryIso    5\n",
       "transact                             0\n",
       "ACCOUNT_MANAGER                      0\n",
       "REBOOT                               0\n",
       "BLUETOOTH_ADMIN                      0\n",
       "                                    ..\n",
       "WAKE_LOCK                            0\n",
       "RECEIVE_BOOT_COMPLETED               0\n",
       "RESTART_PACKAGES                     0\n",
       "Ljava.lang.Class.getPackage          0\n",
       "class                                0\n",
       "Length: 216, dtype: int64"
      ]
     },
     "execution_count": 63,
     "metadata": {},
     "output_type": "execute_result"
    }
   ],
   "source": [
    "# Check Missing Values\n",
    "drebin.isnull().sum().sort_values(ascending=False)"
   ]
  },
  {
   "cell_type": "code",
   "execution_count": 64,
   "metadata": {
    "colab": {
     "base_uri": "https://localhost:8080/"
    },
    "executionInfo": {
     "elapsed": 156,
     "status": "ok",
     "timestamp": 1713303285097,
     "user": {
      "displayName": "Liyan Wang",
      "userId": "15329650402360340238"
     },
     "user_tz": 420
    },
    "id": "VY4MgduTd18J",
    "outputId": "c0810667-de3c-4907-8da1-e55427a65633"
   },
   "outputs": [
    {
     "data": {
      "text/plain": [
       "(15031, 216)"
      ]
     },
     "execution_count": 64,
     "metadata": {},
     "output_type": "execute_result"
    }
   ],
   "source": [
    "# Delete Missing Value in TelephonyManager.getSimCountryIso\n",
    "drebin.dropna(subset=['TelephonyManager.getSimCountryIso'], axis=0, inplace=True)\n",
    "drebin.shape"
   ]
  },
  {
   "cell_type": "markdown",
   "metadata": {
    "id": "RX5i05qAd18K"
   },
   "source": [
    "### Step 2: Processing Data for Model"
   ]
  },
  {
   "cell_type": "code",
   "execution_count": 65,
   "metadata": {
    "colab": {
     "base_uri": "https://localhost:8080/"
    },
    "executionInfo": {
     "elapsed": 169,
     "status": "ok",
     "timestamp": 1713303287156,
     "user": {
      "displayName": "Liyan Wang",
      "userId": "15329650402360340238"
     },
     "user_tz": 420
    },
    "id": "cjznYEPJd18K",
    "outputId": "03749323-3af0-47fd-9bd1-0e675bff9d5c"
   },
   "outputs": [
    {
     "data": {
      "text/plain": [
       "class\n",
       "B    9476\n",
       "S    5555\n",
       "Name: count, dtype: int64"
      ]
     },
     "execution_count": 65,
     "metadata": {},
     "output_type": "execute_result"
    }
   ],
   "source": [
    "# Check the Value Counts of Column 'class'\n",
    "drebin['class'].value_counts()"
   ]
  },
  {
   "cell_type": "code",
   "execution_count": 66,
   "metadata": {
    "colab": {
     "base_uri": "https://localhost:8080/"
    },
    "executionInfo": {
     "elapsed": 173,
     "status": "ok",
     "timestamp": 1713303288474,
     "user": {
      "displayName": "Liyan Wang",
      "userId": "15329650402360340238"
     },
     "user_tz": 420
    },
    "id": "nnX4ej7md18K",
    "outputId": "ffd1c1fd-2df1-4eec-d26a-72ac23cda539"
   },
   "outputs": [
    {
     "data": {
      "text/plain": [
       "class\n",
       "0    9476\n",
       "1    5555\n",
       "Name: count, dtype: int64"
      ]
     },
     "execution_count": 66,
     "metadata": {},
     "output_type": "execute_result"
    }
   ],
   "source": [
    "# Apply LabelEncoder on Target Column 'class'\n",
    "\n",
    "label_encoder = LabelEncoder()\n",
    "class_obj = drebin['class']\n",
    "drebin['class'] = label_encoder.fit_transform(class_obj)\n",
    "\n",
    "# Check the Value Counts of Column 'class' again\n",
    "# to Make Sure the Conversion is Correct\n",
    "drebin['class'].value_counts()"
   ]
  },
  {
   "cell_type": "code",
   "execution_count": 67,
   "metadata": {
    "colab": {
     "base_uri": "https://localhost:8080/"
    },
    "executionInfo": {
     "elapsed": 157,
     "status": "ok",
     "timestamp": 1713303291493,
     "user": {
      "displayName": "Liyan Wang",
      "userId": "15329650402360340238"
     },
     "user_tz": 420
    },
    "id": "8itznWD0d18K",
    "outputId": "7bff11f3-9ecc-47b7-d0fc-5e13ee607201"
   },
   "outputs": [
    {
     "name": "stdout",
     "output_type": "stream",
     "text": [
      "X_train shape: (12024, 215)\ty_train shape: (12024,)\n",
      "X_test shape: (3007, 215)\ty_test shape: (3007,)\n"
     ]
    }
   ],
   "source": [
    "y = drebin['class']\n",
    "X = drebin.drop('class', axis=1)\n",
    "\n",
    "# Split y, X into Training Data and Test Data\n",
    "X_train_1, X_test_1, y_train, y_test = train_test_split(X, y, test_size=0.2, random_state=123, stratify=y)\n",
    "\n",
    "# Scale X_train into Range [0,1]\n",
    "min_max_scaler = MinMaxScaler()\n",
    "X_train = min_max_scaler.fit_transform(X_train_1)\n",
    "X_test = min_max_scaler.transform(X_test_1)\n",
    "\n",
    "# Display the Shape of Each Set\n",
    "print(f'X_train shape: {X_train.shape}\\ty_train shape: {y_train.shape}')\n",
    "print(f'X_test shape: {X_test.shape}\\ty_test shape: {y_test.shape}')"
   ]
  },
  {
   "cell_type": "markdown",
   "metadata": {
    "id": "ybGV5t_kd18K"
   },
   "source": [
    "### Step3: Train ML Models"
   ]
  },
  {
   "cell_type": "code",
   "execution_count": 20,
   "metadata": {
    "colab": {
     "base_uri": "https://localhost:8080/"
    },
    "executionInfo": {
     "elapsed": 389,
     "status": "ok",
     "timestamp": 1713297833354,
     "user": {
      "displayName": "Liyan Wang",
      "userId": "15329650402360340238"
     },
     "user_tz": 420
    },
    "id": "ela7bnxud18L",
    "outputId": "f4dd5d9e-cec1-4669-e396-0233f16af40f"
   },
   "outputs": [
    {
     "name": "stdout",
     "output_type": "stream",
     "text": [
      "accuracy is: 98.2%\n",
      "\n",
      "Confusion Matrix:\n",
      "[[1077   34]\n",
      " [  20 1876]]\n"
     ]
    }
   ],
   "source": [
    "# Logistic Regression\n",
    "\n",
    "# Create the Model and Train the Model\n",
    "lr_model = LogisticRegression()\n",
    "lr_model.fit(X_train,y_train)\n",
    "\n",
    "# Evaluate the Model on Test Data\n",
    "lr_acc = lr_model.score(X_test, y_test)\n",
    "print(f'accuracy is: {round(lr_acc,4) * 100}%')\n",
    "\n",
    "# Print the Confusion Matrix\n",
    "lr_y = lr_model.predict(X_test)\n",
    "lr_cf_mtr = confusion_matrix(y_test, lr_y ,labels=[1, 0])\n",
    "print('\\nConfusion Matrix:')\n",
    "print(lr_cf_mtr)"
   ]
  },
  {
   "cell_type": "code",
   "execution_count": 21,
   "metadata": {
    "colab": {
     "base_uri": "https://localhost:8080/"
    },
    "executionInfo": {
     "elapsed": 414,
     "status": "ok",
     "timestamp": 1713297838485,
     "user": {
      "displayName": "Liyan Wang",
      "userId": "15329650402360340238"
     },
     "user_tz": 420
    },
    "id": "UHdMiFtHd18L",
    "outputId": "42aecef9-97a9-45a6-e710-ccd7a6f93ff6"
   },
   "outputs": [
    {
     "name": "stdout",
     "output_type": "stream",
     "text": [
      "accuracy is: 97.94%\n",
      "\n",
      "Confusion Matrix:\n",
      "[[1078   33]\n",
      " [  29 1867]]\n"
     ]
    },
    {
     "name": "stderr",
     "output_type": "stream",
     "text": [
      "/usr/local/lib/python3.10/dist-packages/sklearn/svm/_base.py:1244: ConvergenceWarning: Liblinear failed to converge, increase the number of iterations.\n",
      "  warnings.warn(\n"
     ]
    }
   ],
   "source": [
    "# Support Vector Machines\n",
    "\n",
    "# Create the Model and Train the Model\n",
    "lin_svm_model = LinearSVC()\n",
    "lin_svm_model.fit(X_train, y_train)\n",
    "\n",
    "# Evaluate the Model on Test Data\n",
    "lin_svm_acc = lin_svm_model.score(X_test, y_test)\n",
    "print(f'accuracy is: {round(lin_svm_acc,4) * 100}%')\n",
    "\n",
    "# Print the Confusion Matrix\n",
    "lin_svm_y = lin_svm_model.predict(X_test)\n",
    "lin_svm_cf_mtr = confusion_matrix(y_test, lin_svm_y ,labels=[1, 0])\n",
    "print('\\nConfusion Matrix:')\n",
    "print(lin_svm_cf_mtr)"
   ]
  },
  {
   "cell_type": "code",
   "execution_count": 22,
   "metadata": {
    "colab": {
     "base_uri": "https://localhost:8080/"
    },
    "executionInfo": {
     "elapsed": 2369,
     "status": "ok",
     "timestamp": 1713297845151,
     "user": {
      "displayName": "Liyan Wang",
      "userId": "15329650402360340238"
     },
     "user_tz": 420
    },
    "id": "QBJ1pTu6d18L",
    "outputId": "c13889d0-866e-4327-c576-9763cb5f1168"
   },
   "outputs": [
    {
     "name": "stdout",
     "output_type": "stream",
     "text": [
      "accuracy is: 97.84%\n",
      "\n",
      "Confusion Matrix:\n",
      "[[1077   34]\n",
      " [  31 1865]]\n"
     ]
    }
   ],
   "source": [
    "# k Nearest Neighbors\n",
    "\n",
    "# Create the Model and Train the Model\n",
    "knn_model = neighbors.KNeighborsClassifier(n_neighbors=5)\n",
    "knn_model.fit(X_train, y_train)\n",
    "\n",
    "# Evaluate the Model on Test Data\n",
    "knn_acc = knn_model.score(X_test, y_test)\n",
    "print(f'accuracy is: {round(knn_acc,4) * 100}%')\n",
    "\n",
    "# Print the Confusion Matrix\n",
    "knn_y = knn_model.predict(X_test)\n",
    "knn_cf_mtr = confusion_matrix(y_test, knn_y ,labels=[1, 0])\n",
    "print('\\nConfusion Matrix:')\n",
    "print(knn_cf_mtr)"
   ]
  },
  {
   "cell_type": "code",
   "execution_count": 23,
   "metadata": {
    "colab": {
     "base_uri": "https://localhost:8080/"
    },
    "executionInfo": {
     "elapsed": 166,
     "status": "ok",
     "timestamp": 1713297849366,
     "user": {
      "displayName": "Liyan Wang",
      "userId": "15329650402360340238"
     },
     "user_tz": 420
    },
    "id": "vkWDYB4id18L",
    "outputId": "91aec351-4e54-46d3-b9ac-d78c9f4845ed"
   },
   "outputs": [
    {
     "name": "stdout",
     "output_type": "stream",
     "text": [
      "accuracy is: 70.44%\n",
      "\n",
      "Confusion Matrix:\n",
      "[[1083   28]\n",
      " [ 861 1035]]\n"
     ]
    }
   ],
   "source": [
    "# Naïve Bayes\n",
    "\n",
    "# Create the Model and Train the Model\n",
    "nb_model = GaussianNB()\n",
    "nb_model.fit(X_train, y_train)\n",
    "\n",
    "# Evaluate the Model on Test Data\n",
    "nb_acc = nb_model.score(X_test, y_test)\n",
    "print(f'accuracy is: {round(nb_acc,4) * 100}%')\n",
    "\n",
    "# Print the Confusion Matrix\n",
    "nb_y = nb_model.predict(X_test)\n",
    "nb_cf_mtr = confusion_matrix(y_test, nb_y ,labels=[1, 0])\n",
    "print('\\nConfusion Matrix:')\n",
    "print(nb_cf_mtr)"
   ]
  },
  {
   "cell_type": "code",
   "execution_count": 24,
   "metadata": {
    "colab": {
     "base_uri": "https://localhost:8080/"
    },
    "executionInfo": {
     "elapsed": 165,
     "status": "ok",
     "timestamp": 1713297859467,
     "user": {
      "displayName": "Liyan Wang",
      "userId": "15329650402360340238"
     },
     "user_tz": 420
    },
    "id": "hxIOxbsKd18L",
    "outputId": "ce98ce04-bc6a-4b8c-c907-8f2f740a3ffe"
   },
   "outputs": [
    {
     "name": "stdout",
     "output_type": "stream",
     "text": [
      "accuracy is: 92.72%\n",
      "\n",
      "Confusion Matrix:\n",
      "[[1027   84]\n",
      " [ 135 1761]]\n"
     ]
    }
   ],
   "source": [
    "# Decision Trees\n",
    "\n",
    "# Create the Model and Train the Model\n",
    "dctree_model = DecisionTreeClassifier(criterion='gini', max_depth=4)\n",
    "dctree_model.fit(X_train, y_train)\n",
    "\n",
    "# Evaluate the Model on Test Data\n",
    "dctree_acc = dctree_model.score(X_test, y_test)\n",
    "print(f'accuracy is: {round(dctree_acc,4) * 100}%')\n",
    "\n",
    "# Print the Confusion Matrix\n",
    "dctree_y = dctree_model.predict(X_test)\n",
    "dctree_cf_mtr = confusion_matrix(y_test, dctree_y ,labels=[1, 0])\n",
    "print('\\nConfusion Matrix:')\n",
    "print(dctree_cf_mtr)"
   ]
  },
  {
   "cell_type": "code",
   "execution_count": 25,
   "metadata": {
    "colab": {
     "base_uri": "https://localhost:8080/"
    },
    "executionInfo": {
     "elapsed": 1315,
     "status": "ok",
     "timestamp": 1713297863936,
     "user": {
      "displayName": "Liyan Wang",
      "userId": "15329650402360340238"
     },
     "user_tz": 420
    },
    "id": "6ItcZd3Vd18M",
    "outputId": "a19b352e-be01-4bf9-803a-b13a4fb33b7c"
   },
   "outputs": [
    {
     "name": "stdout",
     "output_type": "stream",
     "text": [
      "accuracy is: 99.1%\n",
      "\n",
      "Confusion Matrix:\n",
      "[[1090   21]\n",
      " [   6 1890]]\n"
     ]
    }
   ],
   "source": [
    "# Random Forest\n",
    "\n",
    "# Create the Model and Train the Model\n",
    "rf_model = RandomForestClassifier(criterion='gini', n_estimators=100, random_state=1, n_jobs=2)\n",
    "rf_model.fit(X_train, y_train)\n",
    "\n",
    "# Evaluate the Model on Test Data\n",
    "rf_acc = rf_model.score(X_test, y_test)\n",
    "print(f'accuracy is: {round(rf_acc,4) * 100}%')\n",
    "\n",
    "# Print the Confusion Matrix\n",
    "rf_y = rf_model.predict(X_test)\n",
    "rf_cf_mtr = confusion_matrix(y_test, rf_y ,labels=[1, 0])\n",
    "print('\\nConfusion Matrix:')\n",
    "print(rf_cf_mtr)"
   ]
  },
  {
   "cell_type": "code",
   "execution_count": 26,
   "metadata": {
    "colab": {
     "base_uri": "https://localhost:8080/"
    },
    "executionInfo": {
     "elapsed": 784,
     "status": "ok",
     "timestamp": 1713297868283,
     "user": {
      "displayName": "Liyan Wang",
      "userId": "15329650402360340238"
     },
     "user_tz": 420
    },
    "id": "AmrMMSSrd18M",
    "outputId": "1e9af63f-a005-4679-ddb1-6837b6d4b91e"
   },
   "outputs": [
    {
     "name": "stdout",
     "output_type": "stream",
     "text": [
      "accuracy is: 99.03999999999999%\n",
      "\n",
      "Confusion Matrix:\n",
      "[[1097   14]\n",
      " [  15 1881]]\n"
     ]
    }
   ],
   "source": [
    "# XGBoost\n",
    "\n",
    "# Create the Model and Train the Model\n",
    "xgb_model = xgb.XGBClassifier()\n",
    "xgb_model.fit(X_train, y_train)\n",
    "\n",
    "# Evaluate the Model on Test Data\n",
    "xgb_acc = xgb_model.score(X_test, y_test)\n",
    "print(f'accuracy is: {round(xgb_acc,4) * 100}%')\n",
    "\n",
    "# Print the Confusion Matrix\n",
    "xgb_y = xgb_model.predict(X_test)\n",
    "xgb_cf_mtr = confusion_matrix(y_test, xgb_y ,labels=[1, 0])\n",
    "print('\\nConfusion Matrix:')\n",
    "print(xgb_cf_mtr)"
   ]
  },
  {
   "cell_type": "code",
   "execution_count": 27,
   "metadata": {
    "colab": {
     "base_uri": "https://localhost:8080/"
    },
    "collapsed": true,
    "executionInfo": {
     "elapsed": 1009,
     "status": "ok",
     "timestamp": 1713297872540,
     "user": {
      "displayName": "Liyan Wang",
      "userId": "15329650402360340238"
     },
     "user_tz": 420
    },
    "id": "G3JG5TOZd18M",
    "outputId": "faf57cfa-9425-4efd-e16f-949b5132948b"
   },
   "outputs": [
    {
     "name": "stdout",
     "output_type": "stream",
     "text": [
      "[LightGBM] [Info] Number of positive: 4444, number of negative: 7580\n",
      "[LightGBM] [Info] Auto-choosing row-wise multi-threading, the overhead of testing was 0.025347 seconds.\n",
      "You can set `force_row_wise=true` to remove the overhead.\n",
      "And if memory is not enough, you can set `force_col_wise=true`.\n",
      "[LightGBM] [Info] Total Bins 424\n",
      "[LightGBM] [Info] Number of data points in the train set: 12024, number of used features: 212\n",
      "[LightGBM] [Info] [binary:BoostFromScore]: pavg=0.369594 -> initscore=-0.533958\n",
      "[LightGBM] [Info] Start training from score -0.533958\n",
      "accuracy is: 98.94%\n",
      "\n",
      "Confusion Matrix:\n",
      "[[1096   15]\n",
      " [  17 1879]]\n"
     ]
    }
   ],
   "source": [
    "# LightGBM\n",
    "\n",
    "# Create the Model and Train the Model\n",
    "lgbm_model = LGBMClassifier()\n",
    "lgbm_model.fit(X_train, y_train)\n",
    "\n",
    "# Evaluate the Model on Test Data\n",
    "lgbm_acc = lgbm_model.score(X_test, y_test)\n",
    "print(f'accuracy is: {round(lgbm_acc,4) * 100}%')\n",
    "\n",
    "# Print the Confusion Matrix\n",
    "lgbm_y = lgbm_model.predict(X_test)\n",
    "lgbm_cf_mtr = confusion_matrix(y_test, lgbm_y ,labels=[1, 0])\n",
    "print('\\nConfusion Matrix:')\n",
    "print(lgbm_cf_mtr)"
   ]
  },
  {
   "cell_type": "code",
   "execution_count": 28,
   "metadata": {
    "colab": {
     "base_uri": "https://localhost:8080/"
    },
    "collapsed": true,
    "executionInfo": {
     "elapsed": 20418,
     "status": "ok",
     "timestamp": 1713297896466,
     "user": {
      "displayName": "Liyan Wang",
      "userId": "15329650402360340238"
     },
     "user_tz": 420
    },
    "id": "PTjcFKb-d18M",
    "outputId": "bffad551-fcfa-405f-b5d5-3e73d1303265"
   },
   "outputs": [
    {
     "name": "stdout",
     "output_type": "stream",
     "text": [
      "accuracy is: 99.27%\n",
      "\n",
      "Confusion Matrix:\n",
      "[[1096   15]\n",
      " [   7 1889]]\n"
     ]
    }
   ],
   "source": [
    "# CatBoost\n",
    "\n",
    "# Create the Model and Train the Model\n",
    "catbst_model = CatBoostClassifier(verbose=False)\n",
    "catbst_model.fit(X_train, y_train)\n",
    "\n",
    "# Evaluate the Model on Test Data\n",
    "catbst_acc = catbst_model.score(X_test, y_test)\n",
    "print(f'accuracy is: {round(catbst_acc,4) * 100}%')\n",
    "\n",
    "# Print the Confusion Matrix\n",
    "catbst_y = catbst_model.predict(X_test)\n",
    "catbst_cf_mtr = confusion_matrix(y_test, catbst_y ,labels=[1, 0])\n",
    "print('\\nConfusion Matrix:')\n",
    "print(catbst_cf_mtr)"
   ]
  },
  {
   "cell_type": "markdown",
   "metadata": {
    "id": "7mcF2fqXd18M"
   },
   "source": [
    "### Step 4: Deep Learning Network"
   ]
  },
  {
   "cell_type": "code",
   "execution_count": 29,
   "metadata": {
    "executionInfo": {
     "elapsed": 515,
     "status": "ok",
     "timestamp": 1713297901833,
     "user": {
      "displayName": "Liyan Wang",
      "userId": "15329650402360340238"
     },
     "user_tz": 420
    },
    "id": "P1MW9xOvd18N"
   },
   "outputs": [],
   "source": [
    "# Define the Layers of the Network\n",
    "inputs = Input(shape=(215,))\n",
    "\n",
    "hidden = Dense(1024, activation='relu')(inputs)\n",
    "hidden = Dropout(0.25)(hidden)\n",
    "hidden = Dense(512, activation='relu')(hidden)\n",
    "hidden = Dropout(0.25)(hidden)\n",
    "hidden = Dense(256, activation='relu')(hidden)\n",
    "hidden = Dropout(0.25)(hidden)\n",
    "predictions = Dense(2, activation='softmax')(hidden)\n",
    "\n",
    "# Create the Model\n",
    "dnn_model = Model(inputs=inputs, outputs=predictions)"
   ]
  },
  {
   "cell_type": "code",
   "execution_count": 30,
   "metadata": {
    "colab": {
     "base_uri": "https://localhost:8080/"
    },
    "executionInfo": {
     "elapsed": 500,
     "status": "ok",
     "timestamp": 1713297909834,
     "user": {
      "displayName": "Liyan Wang",
      "userId": "15329650402360340238"
     },
     "user_tz": 420
    },
    "id": "SNE3O-pxd18N",
    "outputId": "9a35bcef-20c6-4424-c5ac-cf5dd95b925a"
   },
   "outputs": [
    {
     "name": "stdout",
     "output_type": "stream",
     "text": [
      "Model: \"model\"\n",
      "_________________________________________________________________\n",
      " Layer (type)                Output Shape              Param #   \n",
      "=================================================================\n",
      " input_1 (InputLayer)        [(None, 215)]             0         \n",
      "                                                                 \n",
      " dense (Dense)               (None, 1024)              221184    \n",
      "                                                                 \n",
      " dropout (Dropout)           (None, 1024)              0         \n",
      "                                                                 \n",
      " dense_1 (Dense)             (None, 512)               524800    \n",
      "                                                                 \n",
      " dropout_1 (Dropout)         (None, 512)               0         \n",
      "                                                                 \n",
      " dense_2 (Dense)             (None, 256)               131328    \n",
      "                                                                 \n",
      " dropout_2 (Dropout)         (None, 256)               0         \n",
      "                                                                 \n",
      " dense_3 (Dense)             (None, 2)                 514       \n",
      "                                                                 \n",
      "=================================================================\n",
      "Total params: 877826 (3.35 MB)\n",
      "Trainable params: 877826 (3.35 MB)\n",
      "Non-trainable params: 0 (0.00 Byte)\n",
      "_________________________________________________________________\n"
     ]
    }
   ],
   "source": [
    "# Compile the Model\n",
    "optimizer = tensorflow.keras.optimizers.legacy.Adam(learning_rate=1e-3)\n",
    "dnn_model.compile(optimizer=optimizer, loss='sparse_categorical_crossentropy', metrics=['accuracy'])\n",
    "dnn_model.summary()"
   ]
  },
  {
   "cell_type": "code",
   "execution_count": 31,
   "metadata": {
    "colab": {
     "base_uri": "https://localhost:8080/"
    },
    "executionInfo": {
     "elapsed": 11190,
     "status": "ok",
     "timestamp": 1713297930827,
     "user": {
      "displayName": "Liyan Wang",
      "userId": "15329650402360340238"
     },
     "user_tz": 420
    },
    "id": "jSD_Y2Ihd18N",
    "outputId": "bf66b8f7-6f59-473e-b35f-84d136aa30fa"
   },
   "outputs": [
    {
     "name": "stderr",
     "output_type": "stream",
     "text": [
      "/usr/local/lib/python3.10/dist-packages/keras/src/engine/training_v1.py:2335: UserWarning: `Model.state_updates` will be removed in a future version. This property should not be used in TensorFlow 2.0, as `updates` are applied automatically.\n",
      "  updates = self.state_updates\n"
     ]
    }
   ],
   "source": [
    "# Train the Model\n",
    "callbacks = [EarlyStopping(monitor='val_accuracy', patience=30)]\n",
    "history = dnn_model.fit(X_train, y_train, batch_size=256, epochs=300,\n",
    "                     validation_split=0.2, verbose=0, callbacks=callbacks)"
   ]
  },
  {
   "cell_type": "code",
   "execution_count": 32,
   "metadata": {
    "colab": {
     "base_uri": "https://localhost:8080/",
     "height": 927
    },
    "executionInfo": {
     "elapsed": 845,
     "status": "ok",
     "timestamp": 1713297944306,
     "user": {
      "displayName": "Liyan Wang",
      "userId": "15329650402360340238"
     },
     "user_tz": 420
    },
    "id": "V5Ix7IqQd18N",
    "outputId": "a765d76c-cc08-4165-8d15-4192db2eda52"
   },
   "outputs": [
    {
     "data": {
      "image/png": "[encoded data removed]",
      "text/plain": [
       "<Figure size 640x480 with 1 Axes>"
      ]
     },
     "metadata": {},
     "output_type": "display_data"
    },
    {
     "data": {
      "image/png": "[encoded data removed]",
      "text/plain": [
       "<Figure size 640x480 with 1 Axes>"
      ]
     },
     "metadata": {},
     "output_type": "display_data"
    }
   ],
   "source": [
    "# Plot the Loss and Accuracy\n",
    "train_loss = history.history['loss']\n",
    "val_loss = history.history['val_loss']\n",
    "acc = history.history['accuracy']\n",
    "val_acc = history.history['val_accuracy']\n",
    "\n",
    "epochsn = np.arange(1, len(train_loss)+1,1)\n",
    "plt.plot(epochsn,train_loss, 'b', label='Training Loss')\n",
    "plt.plot(epochsn,val_loss, 'r', label='Validation Loss')\n",
    "plt.grid(color='gray', linestyle='--')\n",
    "plt.legend()\n",
    "plt.title('LOSS')\n",
    "plt.xlabel('Epochs')\n",
    "plt.ylabel('Loss')\n",
    "\n",
    "plt.figure()\n",
    "plt.plot(epochsn, acc, 'b', label='Training Accuracy')\n",
    "plt.plot(epochsn, val_acc, 'r', label='Validation Accuracy')\n",
    "plt.grid(color='gray', linestyle='--')\n",
    "plt.legend()\n",
    "plt.title('ACCURACY')\n",
    "plt.xlabel('Epochs')\n",
    "plt.ylabel('Accuracy')\n",
    "plt.show()"
   ]
  },
  {
   "cell_type": "code",
   "execution_count": 33,
   "metadata": {
    "colab": {
     "base_uri": "https://localhost:8080/"
    },
    "executionInfo": {
     "elapsed": 171,
     "status": "ok",
     "timestamp": 1713298009317,
     "user": {
      "displayName": "Liyan Wang",
      "userId": "15329650402360340238"
     },
     "user_tz": 420
    },
    "id": "XW5QPuMKd18N",
    "outputId": "6b3ba1da-1b42-4568-fd6b-acac160c214f"
   },
   "outputs": [
    {
     "name": "stdout",
     "output_type": "stream",
     "text": [
      "Classification Accuracy:  0.991021\n"
     ]
    }
   ],
   "source": [
    "# Evaluate on Test Data\n",
    "dnn_acc = dnn_model.evaluate(X_test, y_test)\n",
    "print(\"Classification Accuracy: \", dnn_acc[1])"
   ]
  },
  {
   "cell_type": "code",
   "execution_count": 34,
   "metadata": {
    "colab": {
     "base_uri": "https://localhost:8080/"
    },
    "executionInfo": {
     "elapsed": 180,
     "status": "ok",
     "timestamp": 1713298012510,
     "user": {
      "displayName": "Liyan Wang",
      "userId": "15329650402360340238"
     },
     "user_tz": 420
    },
    "id": "t7UHmETcd18O",
    "outputId": "d1cc764b-e2bb-41ea-b9b5-acd0199d2c1d"
   },
   "outputs": [
    {
     "name": "stdout",
     "output_type": "stream",
     "text": [
      "\n",
      "Confusion Matrix:\n",
      "[[1103    8]\n",
      " [  19 1877]]\n"
     ]
    },
    {
     "name": "stderr",
     "output_type": "stream",
     "text": [
      "/usr/local/lib/python3.10/dist-packages/keras/src/engine/training_v1.py:2359: UserWarning: `Model.state_updates` will be removed in a future version. This property should not be used in TensorFlow 2.0, as `updates` are applied automatically.\n",
      "  updates=self.state_updates,\n"
     ]
    }
   ],
   "source": [
    "# Confusion Matrix\n",
    "dnn_y = np.argmax(dnn_model.predict(X_test), axis=1)\n",
    "dnn_cf_mtr = confusion_matrix(y_test, dnn_y ,labels=[1, 0])\n",
    "print('\\nConfusion Matrix:')\n",
    "print(dnn_cf_mtr)"
   ]
  },
  {
   "cell_type": "markdown",
   "metadata": {
    "id": "Guap9L0-izZh"
   },
   "source": [
    "**Discuss the results, and compare the performance of the deep learning model and the ML models from Step 3:**\n",
    "Deep learning model performes better than ML models in Step 3."
   ]
  },
  {
   "cell_type": "markdown",
   "metadata": {
    "id": "eniSPea0d18O"
   },
   "source": [
    "### Step 5: Apply Non-Targeted FGSM Attack on DL Model"
   ]
  },
  {
   "cell_type": "code",
   "execution_count": 68,
   "metadata": {
    "colab": {
     "base_uri": "https://localhost:8080/"
    },
    "executionInfo": {
     "elapsed": 371,
     "status": "ok",
     "timestamp": 1713303308826,
     "user": {
      "displayName": "Liyan Wang",
      "userId": "15329650402360340238"
     },
     "user_tz": 420
    },
    "id": "ZBC-dRMed18O",
    "outputId": "7b82fd52-f3f8-4cc4-f41d-b440e28f0e56",
    "scrolled": true
   },
   "outputs": [
    {
     "name": "stdout",
     "output_type": "stream",
     "text": [
      "Test image shape: (1000, 215)\n",
      "Test label shape: (1000,)\n"
     ]
    }
   ],
   "source": [
    "# Randomly Select 1000 Samples from Test Set\n",
    "np.random.seed(2)\n",
    "\n",
    "ind_smpl = np.random.choice(len(X_test), size=1000)\n",
    "X_test_1000 = X_test[ind_smpl]\n",
    "y_test_1000 = y_test.values[ind_smpl]\n",
    "\n",
    "print('Test image shape: {}\\nTest label shape: {}'.format(X_test_1000.shape, y_test_1000.shape))\n",
    "\n",
    "# Define the dnn Keras Classifier in ART\n",
    "dnn_cls = KerasClassifier(model=dnn_model, clip_values=(0, 1))\n",
    "\n",
    "# Define epsilon\n",
    "epsilon = [0.01, 0.025, 0.05, 0.1, 0.2, 0.3, 0.5]"
   ]
  },
  {
   "cell_type": "code",
   "execution_count": 36,
   "metadata": {
    "colab": {
     "base_uri": "https://localhost:8080/"
    },
    "executionInfo": {
     "elapsed": 1476,
     "status": "ok",
     "timestamp": 1713298048714,
     "user": {
      "displayName": "Liyan Wang",
      "userId": "15329650402360340238"
     },
     "user_tz": 420
    },
    "id": "hGqV3cvBd18O",
    "outputId": "f63acd4b-859c-4cc7-93e1-28dd84cffc03"
   },
   "outputs": [
    {
     "name": "stdout",
     "output_type": "stream",
     "text": [
      "Accuracy on adversarial test data: 98.90%\n",
      "Average perturbation: 0.01\n",
      "Accuracy on adversarial test data: 91.90%\n",
      "Average perturbation: 0.01\n",
      "Accuracy on adversarial test data: 76.30%\n",
      "Average perturbation: 0.03\n",
      "Accuracy on adversarial test data: 37.50%\n",
      "Average perturbation: 0.05\n",
      "Accuracy on adversarial test data: 10.50%\n",
      "Average perturbation: 0.11\n",
      "Accuracy on adversarial test data: 1.80%\n",
      "Average perturbation: 0.16\n",
      "Accuracy on adversarial test data: 1.40%\n",
      "Average perturbation: 0.27\n"
     ]
    }
   ],
   "source": [
    "# Apply FGSM\n",
    "\n",
    "atk_acc_fgsm = []\n",
    "for eps in epsilon:\n",
    "    atk_fgsm = FastGradientMethod(estimator=dnn_cls, eps=eps)\n",
    "\n",
    "    adv_data_1000_fgsm = atk_fgsm.generate(X_test_1000)\n",
    "    loss_fgsm, acc_fgsm = dnn_model.evaluate(adv_data_1000_fgsm, y_test_1000)\n",
    "    atk_acc_fgsm.append(acc_fgsm)\n",
    "    perturbation_fgsm = np.mean(np.abs((adv_data_1000_fgsm - X_test_1000)))\n",
    "\n",
    "    print('Accuracy on adversarial test data: {:4.2f}%'.format(acc_fgsm * 100))\n",
    "    print('Average perturbation: {:4.2f}'.format(perturbation_fgsm))"
   ]
  },
  {
   "cell_type": "markdown",
   "metadata": {
    "id": "8IHFchtWd18O"
   },
   "source": [
    "### Step 6: Apply Non-Targeted JSMA Attack on DL Model"
   ]
  },
  {
   "cell_type": "code",
   "execution_count": 41,
   "metadata": {
    "colab": {
     "base_uri": "https://localhost:8080/",
     "height": 672,
     "referenced_widgets": [
      "7215e8f4424741c796ad0d4ffa2e0798",
      "0d2b84a23ca047ec8022426cbef52bcc",
      "03859fa08c464bfb881c077f57ec4a70",
      "b61de3bdd456439689aca9334e6dede9",
      "2f50cc22d22743f0bc30fb0c32609430",
      "e7158f43beb14b49b6b25c6e2df2fb7a",
      "2e7748527c9b43189723c78a547b3ef8",
      "379f5b4bc2c8476180a7b250ccb0df62",
      "c758376928694bcd8b52e83bb4c6b27a",
      "faf56a02f3b84e48b791a58989790b5f",
      "5850f9fbbacc4d2b8ab619c9f86e4dd2",
      "0889f7647c944482b0d4dade1d74067e",
      "44eec5d4f0d645eab235e29379a0b94b",
      "c6b9ac9c2f5b44e9bf8c6c565f7d0b7c",
      "a161ee521ee347d7a7985946eb8fc7f8",
      "80d8e16c9e594acfb0c5d99edf283eb2",
      "d78c2b37601d45d8b9b6fd92f3ccd070",
      "3ade96647c784a16bc9c2a038e771e1a",
      "cbfbf96eebec4f1fbd73df1e47158a7e",
      "1a540bf75ca446a3aae7e637cc778ec9",
      "3eb5f7c0c7db49feb0782c9fde85f08c",
      "060524af7e1a4174966e907eade01aa7",
      "88410f46689a4385a37597e2c361cd9a",
      "be69904304524913a9a70890285ba17c",
      "96d2ab8ce75e4165a22e55edb7cd0892",
      "0b450dfc099a44a6b15cddc8fa4e6e75",
      "4c389d6d180745bb8fbc68e13dfd8c84",
      "c33b6b6fee0540729bca7c309f0b5acf",
      "4491e9a74e1642b2af9b75ea6f2ca5ff",
      "924faa4cb7e7450db388fc0df6b6a9f2",
      "9ae5b9aae3534b1a9ee28537e1aafc24",
      "16c43fe5a04542b89b45d1644a3175ba",
      "93db6736e8364ec6bbcadb4c64b8bf0f",
      "caf57c811a9a4237a1663778a89334b7",
      "151b6640c95e4c369a550782709d2f84",
      "57a3862b588246bfb573d58549968d60",
      "8253e7c0037546f9ae7c71a440fa52c1",
      "1026895b89f84484917fd517a9d45f77",
      "5634f0d6745e4590a9fe6716ac09ed89",
      "aaa7c7b3206a4eedadd6ed43b83202d4",
      "1a12dbe1000741deade5a16097f5c593",
      "3d1f907655294e7e9b18c720843eec1f",
      "8eb96b94a315422bbd8e24d4227db35c",
      "81dda2bc56524e8998ed6c28d313f4c8",
      "2bd4611dd5b740d69bd593aa88e1b0bf",
      "66df9d9bd6444541b0b9e5204fb343ea",
      "fb91b1df843f47d99fffd7d73a975e52",
      "033cf90133ba47a69bcacd5cffac3a75",
      "b753ad39a5274fe5a69e28cfe4504f04",
      "438ef61aa4404f0e8dd845a07125a6c8",
      "d8c07dc6695449668d65e2d412f25053",
      "4c199436606545e28fd470fb45ea501c",
      "be8a0ddb513841d2afd5b9575124f950",
      "c0bd0c84d70f45f793a24f5b94dd9fce",
      "b6ef1ccc94c74c42b4f21a94a573137c",
      "7e27632c74374594950baf561e1a3615",
      "cc98c8d9286641fa91eff998dc438020",
      "5220e02d20864b6abd97670422b2c6ba",
      "488f74dee2604457adab200f33a1ea17",
      "8560d2577f10462089f52fe959cc5aec",
      "843ecde8ab3d4e6ca4c463fc50d3b8ae",
      "aa992f7813354af58e77abbb57f1dc77",
      "07146ff616ea4b408f22f343a1661db2",
      "b5582c0d9b1941518687e6a3f444e1e4",
      "b0807000b85c46c4a88bc53c831989f9",
      "d266167bb55e45c881776ec9fd9f3d9a",
      "07427f624fc2470b9241b42341bc72bd",
      "96e01e1054184cd4bd8f08f94fa92876",
      "524b1f94fa294f8b9710827b0041820a",
      "282ed3cac0914d94aebdc538b8629049",
      "96664e48fc834717abdf9eb93feb2b43",
      "248085f8ae5b4da4b91616f776dc1e8b",
      "0073c66608b948c4909783b0baa43fe2",
      "2fc22d59405349b582118f59ed31c506",
      "867594994b1a4502bfe0a669dbf38024",
      "8a712ab830e7499d87bf79ccd5335529",
      "793c2ae4f6a64beb90db8b03e9a0fd56"
     ]
    },
    "executionInfo": {
     "elapsed": 1292667,
     "status": "ok",
     "timestamp": 1713302530083,
     "user": {
      "displayName": "Liyan Wang",
      "userId": "15329650402360340238"
     },
     "user_tz": 420
    },
    "id": "2Y9ltFeNd18O",
    "outputId": "5af08e44-ca44-48bb-9f96-706648e34573"
   },
   "outputs": [
    {
     "name": "stderr",
     "output_type": "stream",
     "text": [
      "<ipython-input-41-d285867b40b9>:12: DeprecationWarning: `product` is deprecated as of NumPy 1.25.0, and will be removed in NumPy 2.0. Please use `prod` instead.\n",
      "  adv_data_1000_jsma = atk_jsma.generate(X_test_1000)\n"
     ]
    },
    {
     "data": {
      "application/vnd.jupyter.widget-view+json": {
       "model_id": "7215e8f4424741c796ad0d4ffa2e0798",
       "version_major": 2,
       "version_minor": 0
      },
      "text/plain": [
       "JSMA:   0%|          | 0/1000 [00:00<?, ?it/s]"
      ]
     },
     "metadata": {},
     "output_type": "display_data"
    },
    {
     "name": "stdout",
     "output_type": "stream",
     "text": [
      "theta: 0.01 and gamma: 0.1\n",
      "Accuracy on adversarial test data: 1.70%\n",
      "Average perturbation: 0.02\n"
     ]
    },
    {
     "data": {
      "application/vnd.jupyter.widget-view+json": {
       "model_id": "0889f7647c944482b0d4dade1d74067e",
       "version_major": 2,
       "version_minor": 0
      },
      "text/plain": [
       "JSMA:   0%|          | 0/1000 [00:00<?, ?it/s]"
      ]
     },
     "metadata": {},
     "output_type": "display_data"
    },
    {
     "name": "stdout",
     "output_type": "stream",
     "text": [
      "theta: 0.025 and gamma: 0.1\n",
      "Accuracy on adversarial test data: 1.60%\n",
      "Average perturbation: 0.02\n"
     ]
    },
    {
     "data": {
      "application/vnd.jupyter.widget-view+json": {
       "model_id": "88410f46689a4385a37597e2c361cd9a",
       "version_major": 2,
       "version_minor": 0
      },
      "text/plain": [
       "JSMA:   0%|          | 0/1000 [00:00<?, ?it/s]"
      ]
     },
     "metadata": {},
     "output_type": "display_data"
    },
    {
     "name": "stdout",
     "output_type": "stream",
     "text": [
      "theta: 0.05 and gamma: 0.1\n",
      "Accuracy on adversarial test data: 1.60%\n",
      "Average perturbation: 0.02\n"
     ]
    },
    {
     "data": {
      "application/vnd.jupyter.widget-view+json": {
       "model_id": "caf57c811a9a4237a1663778a89334b7",
       "version_major": 2,
       "version_minor": 0
      },
      "text/plain": [
       "JSMA:   0%|          | 0/1000 [00:00<?, ?it/s]"
      ]
     },
     "metadata": {},
     "output_type": "display_data"
    },
    {
     "name": "stdout",
     "output_type": "stream",
     "text": [
      "theta: 0.2 and gamma: 0.5\n",
      "Accuracy on adversarial test data: 1.20%\n",
      "Average perturbation: 0.02\n"
     ]
    },
    {
     "data": {
      "application/vnd.jupyter.widget-view+json": {
       "model_id": "2bd4611dd5b740d69bd593aa88e1b0bf",
       "version_major": 2,
       "version_minor": 0
      },
      "text/plain": [
       "JSMA:   0%|          | 0/1000 [00:00<?, ?it/s]"
      ]
     },
     "metadata": {},
     "output_type": "display_data"
    },
    {
     "name": "stdout",
     "output_type": "stream",
     "text": [
      "theta: 0.2 and gamma: 0.8\n",
      "Accuracy on adversarial test data: 1.20%\n",
      "Average perturbation: 0.02\n"
     ]
    },
    {
     "data": {
      "application/vnd.jupyter.widget-view+json": {
       "model_id": "7e27632c74374594950baf561e1a3615",
       "version_major": 2,
       "version_minor": 0
      },
      "text/plain": [
       "JSMA:   0%|          | 0/1000 [00:00<?, ?it/s]"
      ]
     },
     "metadata": {},
     "output_type": "display_data"
    },
    {
     "name": "stdout",
     "output_type": "stream",
     "text": [
      "theta: 0.3 and gamma: 0.8\n",
      "Accuracy on adversarial test data: 1.20%\n",
      "Average perturbation: 0.02\n"
     ]
    },
    {
     "data": {
      "application/vnd.jupyter.widget-view+json": {
       "model_id": "07427f624fc2470b9241b42341bc72bd",
       "version_major": 2,
       "version_minor": 0
      },
      "text/plain": [
       "JSMA:   0%|          | 0/1000 [00:00<?, ?it/s]"
      ]
     },
     "metadata": {},
     "output_type": "display_data"
    },
    {
     "name": "stdout",
     "output_type": "stream",
     "text": [
      "theta: 0.5 and gamma: 1.0\n",
      "Accuracy on adversarial test data: 1.20%\n",
      "Average perturbation: 0.02\n"
     ]
    }
   ],
   "source": [
    "# Apply JSMA\n",
    "# in \"class SaliencyMapMethod(EvasionAttack)\" implementation, by default, gamma <= 1.0;\n",
    "# here I change gamma from [1.0,  1.0,   1.0,  1.5, 1.5, 2.0, 2.0]\n",
    "theta_list = [0.01, 0.025, 0.05, 0.2, 0.2, 0.3, 0.5]\n",
    "gamma_list = [0.1,  0.1,   0.1,  0.5, 0.8, 0.8, 1.0]\n",
    "\n",
    "\n",
    "atk_acc_jsma = []\n",
    "for theta, gamma  in zip(theta_list,gamma_list):\n",
    "    atk_jsma = SaliencyMapMethod(classifier=dnn_cls, theta=theta, gamma=gamma)\n",
    "\n",
    "    adv_data_1000_jsma = atk_jsma.generate(X_test_1000)\n",
    "    loss_jsma, acc_jsma = dnn_model.evaluate(adv_data_1000_jsma, y_test_1000)\n",
    "    atk_acc_jsma.append(acc_jsma)\n",
    "    perturbation_jsma = np.mean(np.abs((adv_data_1000_jsma - X_test_1000)))\n",
    "\n",
    "    print(f'theta: {theta} and gamma: {gamma}')\n",
    "    print('Accuracy on adversarial test data: {:4.2f}%'.format(acc_jsma * 100))\n",
    "    print('Average perturbation: {:4.2f}'.format(perturbation_jsma))"
   ]
  },
  {
   "cell_type": "markdown",
   "metadata": {
    "id": "raTTmQi2jNAw"
   },
   "source": [
    "**Discuss the results, interpret the impact of the different values of the parameters in JSMA on the performance, and compare the performance to the FGSM attack from Step 5.**\n",
    "\n",
    "In JSMA attack, When we add almost the same amount pertubation as FGSM, accuracy on adversarial test data drops dramatically. In JSMA attack, when the mean pertubation is 0.02, the accuracy on adversarial test data is 1.7%; whereas in FGSM attack, when the mean pertubation is 0.03, the accuracy on adversarial test data is 76.3%;\n",
    "It seems that when gamma is fixed, theta doesn't have much impact on test accuracy. When I keep gamma fixed at 0.1, theta changes from 0.01 to 0.05, the test accuracy doesn't change too much;\n",
    "\n",
    "When increasing theta and gamma at the same time, the accuracy decreases."
   ]
  },
  {
   "cell_type": "markdown",
   "metadata": {
    "id": "8VI_Nhc2d18U"
   },
   "source": [
    "### Step 7: Apply Non-Targeted on Logistic Regression and SVM"
   ]
  },
  {
   "cell_type": "code",
   "execution_count": 74,
   "metadata": {
    "colab": {
     "base_uri": "https://localhost:8080/"
    },
    "executionInfo": {
     "elapsed": 463,
     "status": "ok",
     "timestamp": 1713303501153,
     "user": {
      "displayName": "Liyan Wang",
      "userId": "15329650402360340238"
     },
     "user_tz": 420
    },
    "id": "Y3-EXbSWd18U",
    "outputId": "221a248c-19d6-467f-b73b-b91ecedaa5d4"
   },
   "outputs": [
    {
     "name": "stdout",
     "output_type": "stream",
     "text": [
      "Accuracy on adversarial test data: 97.40%\n",
      "Average perturbation: 0.01\n",
      "Accuracy on adversarial test data: 93.80%\n",
      "Average perturbation: 0.01\n",
      "Accuracy on adversarial test data: 75.40%\n",
      "Average perturbation: 0.03\n",
      "Accuracy on adversarial test data: 35.40%\n",
      "Average perturbation: 0.05\n",
      "Accuracy on adversarial test data: 6.10%\n",
      "Average perturbation: 0.10\n",
      "Accuracy on adversarial test data: 1.90%\n",
      "Average perturbation: 0.15\n",
      "Accuracy on adversarial test data: 1.90%\n",
      "Average perturbation: 0.26\n"
     ]
    }
   ],
   "source": [
    "# Apply Non-Targeted on Logistic Regression\n",
    "y_test_1000 = pd.Series(y_test_1000.flatten())\n",
    "\n",
    "# Define the Keras Classifier in ART\n",
    "lr_cls =  SklearnClassifier(model=lr_model, clip_values=(0, 1))\n",
    "\n",
    "lr_atk_acc_fgsm = []\n",
    "for eps in epsilon:\n",
    "    lr_atk_fgsm = FastGradientMethod(estimator=lr_cls, eps=eps)\n",
    "\n",
    "    lr_adv_data_1000_fgsm = lr_atk_fgsm.generate(X_test_1000)\n",
    "    lr_acc_fgsm = lr_model.score(lr_adv_data_1000_fgsm, y_test_1000)\n",
    "    lr_atk_acc_fgsm.append(lr_acc_fgsm)\n",
    "    lr_perturbation_fgsm = np.mean(np.abs((lr_adv_data_1000_fgsm - X_test_1000)))\n",
    "\n",
    "    print('Accuracy on adversarial test data: {:4.2f}%'.format(lr_acc_fgsm * 100))\n",
    "    print('Average perturbation: {:4.2f}'.format(lr_perturbation_fgsm))\n"
   ]
  },
  {
   "cell_type": "code",
   "execution_count": null,
   "metadata": {
    "id": "Bh1Y6BfM1tlR"
   },
   "outputs": [],
   "source": []
  },
  {
   "cell_type": "code",
   "execution_count": 77,
   "metadata": {
    "colab": {
     "base_uri": "https://localhost:8080/"
    },
    "executionInfo": {
     "elapsed": 522,
     "status": "ok",
     "timestamp": 1713303559035,
     "user": {
      "displayName": "Liyan Wang",
      "userId": "15329650402360340238"
     },
     "user_tz": 420
    },
    "id": "mJIK2BWNd18U",
    "outputId": "0ad4adf4-3656-4c50-d5af-2600e3705dcd"
   },
   "outputs": [
    {
     "name": "stdout",
     "output_type": "stream",
     "text": [
      "Accuracy on adversarial test data: 96.70%\n",
      "Average perturbation: 0.01\n",
      "Accuracy on adversarial test data: 81.20%\n",
      "Average perturbation: 0.01\n",
      "Accuracy on adversarial test data: 54.00%\n",
      "Average perturbation: 0.03\n",
      "Accuracy on adversarial test data: 18.00%\n",
      "Average perturbation: 0.05\n",
      "Accuracy on adversarial test data: 2.70%\n",
      "Average perturbation: 0.10\n",
      "Accuracy on adversarial test data: 2.20%\n",
      "Average perturbation: 0.15\n",
      "Accuracy on adversarial test data: 2.20%\n",
      "Average perturbation: 0.25\n"
     ]
    }
   ],
   "source": [
    "# Apply Non-Targeted on SVM\n",
    "\n",
    "# Define the Keras Classifier in ART\n",
    "svm_cls = SklearnClassifier(model=lin_svm_model, clip_values=(0, 1))\n",
    "\n",
    "svm_atk_acc_fgsm = []\n",
    "for eps in epsilon:\n",
    "    svm_atk_fgsm = FastGradientMethod(estimator=svm_cls, eps=eps)\n",
    "\n",
    "    svm_adv_data_1000_fgsm = svm_atk_fgsm.generate(X_test_1000)\n",
    "    svm_acc_fgsm = lin_svm_model.score(svm_adv_data_1000_fgsm, y_test_1000)\n",
    "    svm_atk_acc_fgsm.append(svm_acc_fgsm)\n",
    "    svm_perturbation_fgsm = np.mean(np.abs((svm_adv_data_1000_fgsm - X_test_1000)))\n",
    "\n",
    "    print('Accuracy on adversarial test data: {:4.2f}%'.format(svm_acc_fgsm * 100))\n",
    "    print('Average perturbation: {:4.2f}'.format(svm_perturbation_fgsm))"
   ]
  },
  {
   "cell_type": "markdown",
   "metadata": {
    "id": "ejBqm8yQjRVy"
   },
   "source": [
    "**Discuss the results and compare the performance to the attacks against the deep learning model from Steps 5 and 6.**\n",
    "FGSM attack on logistic regression model and svm model has similar behavior as FGSM attack on DL model. With almost the same amount of pertubation, test accuracy on FGSM attack is much higher than JSMA attack in step 6.  "
   ]
  },
  {
   "cell_type": "code",
   "execution_count": null,
   "metadata": {
    "id": "nxG46asEd18U"
   },
   "outputs": [],
   "source": []
  },
  {
   "cell_type": "code",
   "execution_count": null,
   "metadata": {
    "id": "wmRRgRnrd18U"
   },
   "outputs": [],
   "source": []
  }
 ],
 "metadata": {
  "accelerator": "GPU",
  "colab": {
   "gpuType": "T4",
   "provenance": []
  },
  "kernelspec": {
   "display_name": "Python 3 (ipykernel)",
   "language": "python",
   "name": "python3"
  },
  "language_info": {
   "codemirror_mode": {
    "name": "ipython",
    "version": 3
   },
   "file_extension": ".py",
   "mimetype": "text/x-python",
   "name": "python",
   "nbconvert_exporter": "python",
   "pygments_lexer": "ipython3",
   "version": "3.9.12"
  },
  "widgets": {
   "application/vnd.jupyter.widget-state+json": {
    "0073c66608b948c4909783b0baa43fe2": {
     "model_module": "@jupyter-widgets/controls",
     "model_module_version": "1.5.0",
     "model_name": "DescriptionStyleModel",
     "state": {
      "_model_module": "@jupyter-widgets/controls",
      "_model_module_version": "1.5.0",
      "_model_name": "DescriptionStyleModel",
      "_view_count": null,
      "_view_module": "@jupyter-widgets/base",
      "_view_module_version": "1.2.0",
      "_view_name": "StyleView",
      "description_width": ""
     }
    },
    "033cf90133ba47a69bcacd5cffac3a75": {
     "model_module": "@jupyter-widgets/controls",
     "model_module_version": "1.5.0",
     "model_name": "HTMLModel",
     "state": {
      "_dom_classes": [],
      "_model_module": "@jupyter-widgets/controls",
      "_model_module_version": "1.5.0",
      "_model_name": "HTMLModel",
      "_view_count": null,
      "_view_module": "@jupyter-widgets/controls",
      "_view_module_version": "1.5.0",
      "_view_name": "HTMLView",
      "description": "",
      "description_tooltip": null,
      "layout": "IPY_MODEL_c0bd0c84d70f45f793a24f5b94dd9fce",
      "placeholder": "​",
      "style": "IPY_MODEL_b6ef1ccc94c74c42b4f21a94a573137c",
      "value": " 1000/1000 [00:51&lt;00:00, 29.45it/s]"
     }
    },
    "03859fa08c464bfb881c077f57ec4a70": {
     "model_module": "@jupyter-widgets/controls",
     "model_module_version": "1.5.0",
     "model_name": "FloatProgressModel",
     "state": {
      "_dom_classes": [],
      "_model_module": "@jupyter-widgets/controls",
      "_model_module_version": "1.5.0",
      "_model_name": "FloatProgressModel",
      "_view_count": null,
      "_view_module": "@jupyter-widgets/controls",
      "_view_module_version": "1.5.0",
      "_view_name": "ProgressView",
      "bar_style": "success",
      "description": "",
      "description_tooltip": null,
      "layout": "IPY_MODEL_379f5b4bc2c8476180a7b250ccb0df62",
      "max": 1000,
      "min": 0,
      "orientation": "horizontal",
      "style": "IPY_MODEL_c758376928694bcd8b52e83bb4c6b27a",
      "value": 1000
     }
    },
    "060524af7e1a4174966e907eade01aa7": {
     "model_module": "@jupyter-widgets/controls",
     "model_module_version": "1.5.0",
     "model_name": "DescriptionStyleModel",
     "state": {
      "_model_module": "@jupyter-widgets/controls",
      "_model_module_version": "1.5.0",
      "_model_name": "DescriptionStyleModel",
      "_view_count": null,
      "_view_module": "@jupyter-widgets/base",
      "_view_module_version": "1.2.0",
      "_view_name": "StyleView",
      "description_width": ""
     }
    },
    "07146ff616ea4b408f22f343a1661db2": {
     "model_module": "@jupyter-widgets/base",
     "model_module_version": "1.2.0",
     "model_name": "LayoutModel",
     "state": {
      "_model_module": "@jupyter-widgets/base",
      "_model_module_version": "1.2.0",
      "_model_name": "LayoutModel",
      "_view_count": null,
      "_view_module": "@jupyter-widgets/base",
      "_view_module_version": "1.2.0",
      "_view_name": "LayoutView",
      "align_content": null,
      "align_items": null,
      "align_self": null,
      "border": null,
      "bottom": null,
      "display": null,
      "flex": null,
      "flex_flow": null,
      "grid_area": null,
      "grid_auto_columns": null,
      "grid_auto_flow": null,
      "grid_auto_rows": null,
      "grid_column": null,
      "grid_gap": null,
      "grid_row": null,
      "grid_template_areas": null,
      "grid_template_columns": null,
      "grid_template_rows": null,
      "height": null,
      "justify_content": null,
      "justify_items": null,
      "left": null,
      "margin": null,
      "max_height": null,
      "max_width": null,
      "min_height": null,
      "min_width": null,
      "object_fit": null,
      "object_position": null,
      "order": null,
      "overflow": null,
      "overflow_x": null,
      "overflow_y": null,
      "padding": null,
      "right": null,
      "top": null,
      "visibility": null,
      "width": null
     }
    },
    "07427f624fc2470b9241b42341bc72bd": {
     "model_module": "@jupyter-widgets/controls",
     "model_module_version": "1.5.0",
     "model_name": "HBoxModel",
     "state": {
      "_dom_classes": [],
      "_model_module": "@jupyter-widgets/controls",
      "_model_module_version": "1.5.0",
      "_model_name": "HBoxModel",
      "_view_count": null,
      "_view_module": "@jupyter-widgets/controls",
      "_view_module_version": "1.5.0",
      "_view_name": "HBoxView",
      "box_style": "",
      "children": [
       "IPY_MODEL_96e01e1054184cd4bd8f08f94fa92876",
       "IPY_MODEL_524b1f94fa294f8b9710827b0041820a",
       "IPY_MODEL_282ed3cac0914d94aebdc538b8629049"
      ],
      "layout": "IPY_MODEL_96664e48fc834717abdf9eb93feb2b43"
     }
    },
    "0889f7647c944482b0d4dade1d74067e": {
     "model_module": "@jupyter-widgets/controls",
     "model_module_version": "1.5.0",
     "model_name": "HBoxModel",
     "state": {
      "_dom_classes": [],
      "_model_module": "@jupyter-widgets/controls",
      "_model_module_version": "1.5.0",
      "_model_name": "HBoxModel",
      "_view_count": null,
      "_view_module": "@jupyter-widgets/controls",
      "_view_module_version": "1.5.0",
      "_view_name": "HBoxView",
      "box_style": "",
      "children": [
       "IPY_MODEL_44eec5d4f0d645eab235e29379a0b94b",
       "IPY_MODEL_c6b9ac9c2f5b44e9bf8c6c565f7d0b7c",
       "IPY_MODEL_a161ee521ee347d7a7985946eb8fc7f8"
      ],
      "layout": "IPY_MODEL_80d8e16c9e594acfb0c5d99edf283eb2"
     }
    },
    "0b450dfc099a44a6b15cddc8fa4e6e75": {
     "model_module": "@jupyter-widgets/controls",
     "model_module_version": "1.5.0",
     "model_name": "HTMLModel",
     "state": {
      "_dom_classes": [],
      "_model_module": "@jupyter-widgets/controls",
      "_model_module_version": "1.5.0",
      "_model_name": "HTMLModel",
      "_view_count": null,
      "_view_module": "@jupyter-widgets/controls",
      "_view_module_version": "1.5.0",
      "_view_name": "HTMLView",
      "description": "",
      "description_tooltip": null,
      "layout": "IPY_MODEL_16c43fe5a04542b89b45d1644a3175ba",
      "placeholder": "​",
      "style": "IPY_MODEL_93db6736e8364ec6bbcadb4c64b8bf0f",
      "value": " 1000/1000 [02:24&lt;00:00, 12.63it/s]"
     }
    },
    "0d2b84a23ca047ec8022426cbef52bcc": {
     "model_module": "@jupyter-widgets/controls",
     "model_module_version": "1.5.0",
     "model_name": "HTMLModel",
     "state": {
      "_dom_classes": [],
      "_model_module": "@jupyter-widgets/controls",
      "_model_module_version": "1.5.0",
      "_model_name": "HTMLModel",
      "_view_count": null,
      "_view_module": "@jupyter-widgets/controls",
      "_view_module_version": "1.5.0",
      "_view_name": "HTMLView",
      "description": "",
      "description_tooltip": null,
      "layout": "IPY_MODEL_e7158f43beb14b49b6b25c6e2df2fb7a",
      "placeholder": "​",
      "style": "IPY_MODEL_2e7748527c9b43189723c78a547b3ef8",
      "value": "JSMA: 100%"
     }
    },
    "1026895b89f84484917fd517a9d45f77": {
     "model_module": "@jupyter-widgets/base",
     "model_module_version": "1.2.0",
     "model_name": "LayoutModel",
     "state": {
      "_model_module": "@jupyter-widgets/base",
      "_model_module_version": "1.2.0",
      "_model_name": "LayoutModel",
      "_view_count": null,
      "_view_module": "@jupyter-widgets/base",
      "_view_module_version": "1.2.0",
      "_view_name": "LayoutView",
      "align_content": null,
      "align_items": null,
      "align_self": null,
      "border": null,
      "bottom": null,
      "display": null,
      "flex": null,
      "flex_flow": null,
      "grid_area": null,
      "grid_auto_columns": null,
      "grid_auto_flow": null,
      "grid_auto_rows": null,
      "grid_column": null,
      "grid_gap": null,
      "grid_row": null,
      "grid_template_areas": null,
      "grid_template_columns": null,
      "grid_template_rows": null,
      "height": null,
      "justify_content": null,
      "justify_items": null,
      "left": null,
      "margin": null,
      "max_height": null,
      "max_width": null,
      "min_height": null,
      "min_width": null,
      "object_fit": null,
      "object_position": null,
      "order": null,
      "overflow": null,
      "overflow_x": null,
      "overflow_y": null,
      "padding": null,
      "right": null,
      "top": null,
      "visibility": null,
      "width": null
     }
    },
    "151b6640c95e4c369a550782709d2f84": {
     "model_module": "@jupyter-widgets/controls",
     "model_module_version": "1.5.0",
     "model_name": "HTMLModel",
     "state": {
      "_dom_classes": [],
      "_model_module": "@jupyter-widgets/controls",
      "_model_module_version": "1.5.0",
      "_model_name": "HTMLModel",
      "_view_count": null,
      "_view_module": "@jupyter-widgets/controls",
      "_view_module_version": "1.5.0",
      "_view_name": "HTMLView",
      "description": "",
      "description_tooltip": null,
      "layout": "IPY_MODEL_5634f0d6745e4590a9fe6716ac09ed89",
      "placeholder": "​",
      "style": "IPY_MODEL_aaa7c7b3206a4eedadd6ed43b83202d4",
      "value": "JSMA: 100%"
     }
    },
    "16c43fe5a04542b89b45d1644a3175ba": {
     "model_module": "@jupyter-widgets/base",
     "model_module_version": "1.2.0",
     "model_name": "LayoutModel",
     "state": {
      "_model_module": "@jupyter-widgets/base",
      "_model_module_version": "1.2.0",
      "_model_name": "LayoutModel",
      "_view_count": null,
      "_view_module": "@jupyter-widgets/base",
      "_view_module_version": "1.2.0",
      "_view_name": "LayoutView",
      "align_content": null,
      "align_items": null,
      "align_self": null,
      "border": null,
      "bottom": null,
      "display": null,
      "flex": null,
      "flex_flow": null,
      "grid_area": null,
      "grid_auto_columns": null,
      "grid_auto_flow": null,
      "grid_auto_rows": null,
      "grid_column": null,
      "grid_gap": null,
      "grid_row": null,
      "grid_template_areas": null,
      "grid_template_columns": null,
      "grid_template_rows": null,
      "height": null,
      "justify_content": null,
      "justify_items": null,
      "left": null,
      "margin": null,
      "max_height": null,
      "max_width": null,
      "min_height": null,
      "min_width": null,
      "object_fit": null,
      "object_position": null,
      "order": null,
      "overflow": null,
      "overflow_x": null,
      "overflow_y": null,
      "padding": null,
      "right": null,
      "top": null,
      "visibility": null,
      "width": null
     }
    },
    "1a12dbe1000741deade5a16097f5c593": {
     "model_module": "@jupyter-widgets/base",
     "model_module_version": "1.2.0",
     "model_name": "LayoutModel",
     "state": {
      "_model_module": "@jupyter-widgets/base",
      "_model_module_version": "1.2.0",
      "_model_name": "LayoutModel",
      "_view_count": null,
      "_view_module": "@jupyter-widgets/base",
      "_view_module_version": "1.2.0",
      "_view_name": "LayoutView",
      "align_content": null,
      "align_items": null,
      "align_self": null,
      "border": null,
      "bottom": null,
      "display": null,
      "flex": null,
      "flex_flow": null,
      "grid_area": null,
      "grid_auto_columns": null,
      "grid_auto_flow": null,
      "grid_auto_rows": null,
      "grid_column": null,
      "grid_gap": null,
      "grid_row": null,
      "grid_template_areas": null,
      "grid_template_columns": null,
      "grid_template_rows": null,
      "height": null,
      "justify_content": null,
      "justify_items": null,
      "left": null,
      "margin": null,
      "max_height": null,
      "max_width": null,
      "min_height": null,
      "min_width": null,
      "object_fit": null,
      "object_position": null,
      "order": null,
      "overflow": null,
      "overflow_x": null,
      "overflow_y": null,
      "padding": null,
      "right": null,
      "top": null,
      "visibility": null,
      "width": null
     }
    },
    "1a540bf75ca446a3aae7e637cc778ec9": {
     "model_module": "@jupyter-widgets/controls",
     "model_module_version": "1.5.0",
     "model_name": "ProgressStyleModel",
     "state": {
      "_model_module": "@jupyter-widgets/controls",
      "_model_module_version": "1.5.0",
      "_model_name": "ProgressStyleModel",
      "_view_count": null,
      "_view_module": "@jupyter-widgets/base",
      "_view_module_version": "1.2.0",
      "_view_name": "StyleView",
      "bar_color": null,
      "description_width": ""
     }
    },
    "248085f8ae5b4da4b91616f776dc1e8b": {
     "model_module": "@jupyter-widgets/base",
     "model_module_version": "1.2.0",
     "model_name": "LayoutModel",
     "state": {
      "_model_module": "@jupyter-widgets/base",
      "_model_module_version": "1.2.0",
      "_model_name": "LayoutModel",
      "_view_count": null,
      "_view_module": "@jupyter-widgets/base",
      "_view_module_version": "1.2.0",
      "_view_name": "LayoutView",
      "align_content": null,
      "align_items": null,
      "align_self": null,
      "border": null,
      "bottom": null,
      "display": null,
      "flex": null,
      "flex_flow": null,
      "grid_area": null,
      "grid_auto_columns": null,
      "grid_auto_flow": null,
      "grid_auto_rows": null,
      "grid_column": null,
      "grid_gap": null,
      "grid_row": null,
      "grid_template_areas": null,
      "grid_template_columns": null,
      "grid_template_rows": null,
      "height": null,
      "justify_content": null,
      "justify_items": null,
      "left": null,
      "margin": null,
      "max_height": null,
      "max_width": null,
      "min_height": null,
      "min_width": null,
      "object_fit": null,
      "object_position": null,
      "order": null,
      "overflow": null,
      "overflow_x": null,
      "overflow_y": null,
      "padding": null,
      "right": null,
      "top": null,
      "visibility": null,
      "width": null
     }
    },
    "282ed3cac0914d94aebdc538b8629049": {
     "model_module": "@jupyter-widgets/controls",
     "model_module_version": "1.5.0",
     "model_name": "HTMLModel",
     "state": {
      "_dom_classes": [],
      "_model_module": "@jupyter-widgets/controls",
      "_model_module_version": "1.5.0",
      "_model_name": "HTMLModel",
      "_view_count": null,
      "_view_module": "@jupyter-widgets/controls",
      "_view_module_version": "1.5.0",
      "_view_name": "HTMLView",
      "description": "",
      "description_tooltip": null,
      "layout": "IPY_MODEL_8a712ab830e7499d87bf79ccd5335529",
      "placeholder": "​",
      "style": "IPY_MODEL_793c2ae4f6a64beb90db8b03e9a0fd56",
      "value": " 1000/1000 [00:21&lt;00:00, 61.47it/s]"
     }
    },
    "2bd4611dd5b740d69bd593aa88e1b0bf": {
     "model_module": "@jupyter-widgets/controls",
     "model_module_version": "1.5.0",
     "model_name": "HBoxModel",
     "state": {
      "_dom_classes": [],
      "_model_module": "@jupyter-widgets/controls",
      "_model_module_version": "1.5.0",
      "_model_name": "HBoxModel",
      "_view_count": null,
      "_view_module": "@jupyter-widgets/controls",
      "_view_module_version": "1.5.0",
      "_view_name": "HBoxView",
      "box_style": "",
      "children": [
       "IPY_MODEL_66df9d9bd6444541b0b9e5204fb343ea",
       "IPY_MODEL_fb91b1df843f47d99fffd7d73a975e52",
       "IPY_MODEL_033cf90133ba47a69bcacd5cffac3a75"
      ],
      "layout": "IPY_MODEL_b753ad39a5274fe5a69e28cfe4504f04"
     }
    },
    "2e7748527c9b43189723c78a547b3ef8": {
     "model_module": "@jupyter-widgets/controls",
     "model_module_version": "1.5.0",
     "model_name": "DescriptionStyleModel",
     "state": {
      "_model_module": "@jupyter-widgets/controls",
      "_model_module_version": "1.5.0",
      "_model_name": "DescriptionStyleModel",
      "_view_count": null,
      "_view_module": "@jupyter-widgets/base",
      "_view_module_version": "1.2.0",
      "_view_name": "StyleView",
      "description_width": ""
     }
    },
    "2f50cc22d22743f0bc30fb0c32609430": {
     "model_module": "@jupyter-widgets/base",
     "model_module_version": "1.2.0",
     "model_name": "LayoutModel",
     "state": {
      "_model_module": "@jupyter-widgets/base",
      "_model_module_version": "1.2.0",
      "_model_name": "LayoutModel",
      "_view_count": null,
      "_view_module": "@jupyter-widgets/base",
      "_view_module_version": "1.2.0",
      "_view_name": "LayoutView",
      "align_content": null,
      "align_items": null,
      "align_self": null,
      "border": null,
      "bottom": null,
      "display": null,
      "flex": null,
      "flex_flow": null,
      "grid_area": null,
      "grid_auto_columns": null,
      "grid_auto_flow": null,
      "grid_auto_rows": null,
      "grid_column": null,
      "grid_gap": null,
      "grid_row": null,
      "grid_template_areas": null,
      "grid_template_columns": null,
      "grid_template_rows": null,
      "height": null,
      "justify_content": null,
      "justify_items": null,
      "left": null,
      "margin": null,
      "max_height": null,
      "max_width": null,
      "min_height": null,
      "min_width": null,
      "object_fit": null,
      "object_position": null,
      "order": null,
      "overflow": null,
      "overflow_x": null,
      "overflow_y": null,
      "padding": null,
      "right": null,
      "top": null,
      "visibility": null,
      "width": null
     }
    },
    "2fc22d59405349b582118f59ed31c506": {
     "model_module": "@jupyter-widgets/base",
     "model_module_version": "1.2.0",
     "model_name": "LayoutModel",
     "state": {
      "_model_module": "@jupyter-widgets/base",
      "_model_module_version": "1.2.0",
      "_model_name": "LayoutModel",
      "_view_count": null,
      "_view_module": "@jupyter-widgets/base",
      "_view_module_version": "1.2.0",
      "_view_name": "LayoutView",
      "align_content": null,
      "align_items": null,
      "align_self": null,
      "border": null,
      "bottom": null,
      "display": null,
      "flex": null,
      "flex_flow": null,
      "grid_area": null,
      "grid_auto_columns": null,
      "grid_auto_flow": null,
      "grid_auto_rows": null,
      "grid_column": null,
      "grid_gap": null,
      "grid_row": null,
      "grid_template_areas": null,
      "grid_template_columns": null,
      "grid_template_rows": null,
      "height": null,
      "justify_content": null,
      "justify_items": null,
      "left": null,
      "margin": null,
      "max_height": null,
      "max_width": null,
      "min_height": null,
      "min_width": null,
      "object_fit": null,
      "object_position": null,
      "order": null,
      "overflow": null,
      "overflow_x": null,
      "overflow_y": null,
      "padding": null,
      "right": null,
      "top": null,
      "visibility": null,
      "width": null
     }
    },
    "379f5b4bc2c8476180a7b250ccb0df62": {
     "model_module": "@jupyter-widgets/base",
     "model_module_version": "1.2.0",
     "model_name": "LayoutModel",
     "state": {
      "_model_module": "@jupyter-widgets/base",
      "_model_module_version": "1.2.0",
      "_model_name": "LayoutModel",
      "_view_count": null,
      "_view_module": "@jupyter-widgets/base",
      "_view_module_version": "1.2.0",
      "_view_name": "LayoutView",
      "align_content": null,
      "align_items": null,
      "align_self": null,
      "border": null,
      "bottom": null,
      "display": null,
      "flex": null,
      "flex_flow": null,
      "grid_area": null,
      "grid_auto_columns": null,
      "grid_auto_flow": null,
      "grid_auto_rows": null,
      "grid_column": null,
      "grid_gap": null,
      "grid_row": null,
      "grid_template_areas": null,
      "grid_template_columns": null,
      "grid_template_rows": null,
      "height": null,
      "justify_content": null,
      "justify_items": null,
      "left": null,
      "margin": null,
      "max_height": null,
      "max_width": null,
      "min_height": null,
      "min_width": null,
      "object_fit": null,
      "object_position": null,
      "order": null,
      "overflow": null,
      "overflow_x": null,
      "overflow_y": null,
      "padding": null,
      "right": null,
      "top": null,
      "visibility": null,
      "width": null
     }
    },
    "3ade96647c784a16bc9c2a038e771e1a": {
     "model_module": "@jupyter-widgets/controls",
     "model_module_version": "1.5.0",
     "model_name": "DescriptionStyleModel",
     "state": {
      "_model_module": "@jupyter-widgets/controls",
      "_model_module_version": "1.5.0",
      "_model_name": "DescriptionStyleModel",
      "_view_count": null,
      "_view_module": "@jupyter-widgets/base",
      "_view_module_version": "1.2.0",
      "_view_name": "StyleView",
      "description_width": ""
     }
    },
    "3d1f907655294e7e9b18c720843eec1f": {
     "model_module": "@jupyter-widgets/controls",
     "model_module_version": "1.5.0",
     "model_name": "ProgressStyleModel",
     "state": {
      "_model_module": "@jupyter-widgets/controls",
      "_model_module_version": "1.5.0",
      "_model_name": "ProgressStyleModel",
      "_view_count": null,
      "_view_module": "@jupyter-widgets/base",
      "_view_module_version": "1.2.0",
      "_view_name": "StyleView",
      "bar_color": null,
      "description_width": ""
     }
    },
    "3eb5f7c0c7db49feb0782c9fde85f08c": {
     "model_module": "@jupyter-widgets/base",
     "model_module_version": "1.2.0",
     "model_name": "LayoutModel",
     "state": {
      "_model_module": "@jupyter-widgets/base",
      "_model_module_version": "1.2.0",
      "_model_name": "LayoutModel",
      "_view_count": null,
      "_view_module": "@jupyter-widgets/base",
      "_view_module_version": "1.2.0",
      "_view_name": "LayoutView",
      "align_content": null,
      "align_items": null,
      "align_self": null,
      "border": null,
      "bottom": null,
      "display": null,
      "flex": null,
      "flex_flow": null,
      "grid_area": null,
      "grid_auto_columns": null,
      "grid_auto_flow": null,
      "grid_auto_rows": null,
      "grid_column": null,
      "grid_gap": null,
      "grid_row": null,
      "grid_template_areas": null,
      "grid_template_columns": null,
      "grid_template_rows": null,
      "height": null,
      "justify_content": null,
      "justify_items": null,
      "left": null,
      "margin": null,
      "max_height": null,
      "max_width": null,
      "min_height": null,
      "min_width": null,
      "object_fit": null,
      "object_position": null,
      "order": null,
      "overflow": null,
      "overflow_x": null,
      "overflow_y": null,
      "padding": null,
      "right": null,
      "top": null,
      "visibility": null,
      "width": null
     }
    },
    "438ef61aa4404f0e8dd845a07125a6c8": {
     "model_module": "@jupyter-widgets/base",
     "model_module_version": "1.2.0",
     "model_name": "LayoutModel",
     "state": {
      "_model_module": "@jupyter-widgets/base",
      "_model_module_version": "1.2.0",
      "_model_name": "LayoutModel",
      "_view_count": null,
      "_view_module": "@jupyter-widgets/base",
      "_view_module_version": "1.2.0",
      "_view_name": "LayoutView",
      "align_content": null,
      "align_items": null,
      "align_self": null,
      "border": null,
      "bottom": null,
      "display": null,
      "flex": null,
      "flex_flow": null,
      "grid_area": null,
      "grid_auto_columns": null,
      "grid_auto_flow": null,
      "grid_auto_rows": null,
      "grid_column": null,
      "grid_gap": null,
      "grid_row": null,
      "grid_template_areas": null,
      "grid_template_columns": null,
      "grid_template_rows": null,
      "height": null,
      "justify_content": null,
      "justify_items": null,
      "left": null,
      "margin": null,
      "max_height": null,
      "max_width": null,
      "min_height": null,
      "min_width": null,
      "object_fit": null,
      "object_position": null,
      "order": null,
      "overflow": null,
      "overflow_x": null,
      "overflow_y": null,
      "padding": null,
      "right": null,
      "top": null,
      "visibility": null,
      "width": null
     }
    },
    "4491e9a74e1642b2af9b75ea6f2ca5ff": {
     "model_module": "@jupyter-widgets/controls",
     "model_module_version": "1.5.0",
     "model_name": "DescriptionStyleModel",
     "state": {
      "_model_module": "@jupyter-widgets/controls",
      "_model_module_version": "1.5.0",
      "_model_name": "DescriptionStyleModel",
      "_view_count": null,
      "_view_module": "@jupyter-widgets/base",
      "_view_module_version": "1.2.0",
      "_view_name": "StyleView",
      "description_width": ""
     }
    },
    "44eec5d4f0d645eab235e29379a0b94b": {
     "model_module": "@jupyter-widgets/controls",
     "model_module_version": "1.5.0",
     "model_name": "HTMLModel",
     "state": {
      "_dom_classes": [],
      "_model_module": "@jupyter-widgets/controls",
      "_model_module_version": "1.5.0",
      "_model_name": "HTMLModel",
      "_view_count": null,
      "_view_module": "@jupyter-widgets/controls",
      "_view_module_version": "1.5.0",
      "_view_name": "HTMLView",
      "description": "",
      "description_tooltip": null,
      "layout": "IPY_MODEL_d78c2b37601d45d8b9b6fd92f3ccd070",
      "placeholder": "​",
      "style": "IPY_MODEL_3ade96647c784a16bc9c2a038e771e1a",
      "value": "JSMA: 100%"
     }
    },
    "488f74dee2604457adab200f33a1ea17": {
     "model_module": "@jupyter-widgets/controls",
     "model_module_version": "1.5.0",
     "model_name": "HTMLModel",
     "state": {
      "_dom_classes": [],
      "_model_module": "@jupyter-widgets/controls",
      "_model_module_version": "1.5.0",
      "_model_name": "HTMLModel",
      "_view_count": null,
      "_view_module": "@jupyter-widgets/controls",
      "_view_module_version": "1.5.0",
      "_view_name": "HTMLView",
      "description": "",
      "description_tooltip": null,
      "layout": "IPY_MODEL_b0807000b85c46c4a88bc53c831989f9",
      "placeholder": "​",
      "style": "IPY_MODEL_d266167bb55e45c881776ec9fd9f3d9a",
      "value": " 1000/1000 [00:34&lt;00:00, 26.81it/s]"
     }
    },
    "4c199436606545e28fd470fb45ea501c": {
     "model_module": "@jupyter-widgets/base",
     "model_module_version": "1.2.0",
     "model_name": "LayoutModel",
     "state": {
      "_model_module": "@jupyter-widgets/base",
      "_model_module_version": "1.2.0",
      "_model_name": "LayoutModel",
      "_view_count": null,
      "_view_module": "@jupyter-widgets/base",
      "_view_module_version": "1.2.0",
      "_view_name": "LayoutView",
      "align_content": null,
      "align_items": null,
      "align_self": null,
      "border": null,
      "bottom": null,
      "display": null,
      "flex": null,
      "flex_flow": null,
      "grid_area": null,
      "grid_auto_columns": null,
      "grid_auto_flow": null,
      "grid_auto_rows": null,
      "grid_column": null,
      "grid_gap": null,
      "grid_row": null,
      "grid_template_areas": null,
      "grid_template_columns": null,
      "grid_template_rows": null,
      "height": null,
      "justify_content": null,
      "justify_items": null,
      "left": null,
      "margin": null,
      "max_height": null,
      "max_width": null,
      "min_height": null,
      "min_width": null,
      "object_fit": null,
      "object_position": null,
      "order": null,
      "overflow": null,
      "overflow_x": null,
      "overflow_y": null,
      "padding": null,
      "right": null,
      "top": null,
      "visibility": null,
      "width": null
     }
    },
    "4c389d6d180745bb8fbc68e13dfd8c84": {
     "model_module": "@jupyter-widgets/base",
     "model_module_version": "1.2.0",
     "model_name": "LayoutModel",
     "state": {
      "_model_module": "@jupyter-widgets/base",
      "_model_module_version": "1.2.0",
      "_model_name": "LayoutModel",
      "_view_count": null,
      "_view_module": "@jupyter-widgets/base",
      "_view_module_version": "1.2.0",
      "_view_name": "LayoutView",
      "align_content": null,
      "align_items": null,
      "align_self": null,
      "border": null,
      "bottom": null,
      "display": null,
      "flex": null,
      "flex_flow": null,
      "grid_area": null,
      "grid_auto_columns": null,
      "grid_auto_flow": null,
      "grid_auto_rows": null,
      "grid_column": null,
      "grid_gap": null,
      "grid_row": null,
      "grid_template_areas": null,
      "grid_template_columns": null,
      "grid_template_rows": null,
      "height": null,
      "justify_content": null,
      "justify_items": null,
      "left": null,
      "margin": null,
      "max_height": null,
      "max_width": null,
      "min_height": null,
      "min_width": null,
      "object_fit": null,
      "object_position": null,
      "order": null,
      "overflow": null,
      "overflow_x": null,
      "overflow_y": null,
      "padding": null,
      "right": null,
      "top": null,
      "visibility": null,
      "width": null
     }
    },
    "5220e02d20864b6abd97670422b2c6ba": {
     "model_module": "@jupyter-widgets/controls",
     "model_module_version": "1.5.0",
     "model_name": "FloatProgressModel",
     "state": {
      "_dom_classes": [],
      "_model_module": "@jupyter-widgets/controls",
      "_model_module_version": "1.5.0",
      "_model_name": "FloatProgressModel",
      "_view_count": null,
      "_view_module": "@jupyter-widgets/controls",
      "_view_module_version": "1.5.0",
      "_view_name": "ProgressView",
      "bar_style": "success",
      "description": "",
      "description_tooltip": null,
      "layout": "IPY_MODEL_07146ff616ea4b408f22f343a1661db2",
      "max": 1000,
      "min": 0,
      "orientation": "horizontal",
      "style": "IPY_MODEL_b5582c0d9b1941518687e6a3f444e1e4",
      "value": 1000
     }
    },
    "524b1f94fa294f8b9710827b0041820a": {
     "model_module": "@jupyter-widgets/controls",
     "model_module_version": "1.5.0",
     "model_name": "FloatProgressModel",
     "state": {
      "_dom_classes": [],
      "_model_module": "@jupyter-widgets/controls",
      "_model_module_version": "1.5.0",
      "_model_name": "FloatProgressModel",
      "_view_count": null,
      "_view_module": "@jupyter-widgets/controls",
      "_view_module_version": "1.5.0",
      "_view_name": "ProgressView",
      "bar_style": "success",
      "description": "",
      "description_tooltip": null,
      "layout": "IPY_MODEL_2fc22d59405349b582118f59ed31c506",
      "max": 1000,
      "min": 0,
      "orientation": "horizontal",
      "style": "IPY_MODEL_867594994b1a4502bfe0a669dbf38024",
      "value": 1000
     }
    },
    "5634f0d6745e4590a9fe6716ac09ed89": {
     "model_module": "@jupyter-widgets/base",
     "model_module_version": "1.2.0",
     "model_name": "LayoutModel",
     "state": {
      "_model_module": "@jupyter-widgets/base",
      "_model_module_version": "1.2.0",
      "_model_name": "LayoutModel",
      "_view_count": null,
      "_view_module": "@jupyter-widgets/base",
      "_view_module_version": "1.2.0",
      "_view_name": "LayoutView",
      "align_content": null,
      "align_items": null,
      "align_self": null,
      "border": null,
      "bottom": null,
      "display": null,
      "flex": null,
      "flex_flow": null,
      "grid_area": null,
      "grid_auto_columns": null,
      "grid_auto_flow": null,
      "grid_auto_rows": null,
      "grid_column": null,
      "grid_gap": null,
      "grid_row": null,
      "grid_template_areas": null,
      "grid_template_columns": null,
      "grid_template_rows": null,
      "height": null,
      "justify_content": null,
      "justify_items": null,
      "left": null,
      "margin": null,
      "max_height": null,
      "max_width": null,
      "min_height": null,
      "min_width": null,
      "object_fit": null,
      "object_position": null,
      "order": null,
      "overflow": null,
      "overflow_x": null,
      "overflow_y": null,
      "padding": null,
      "right": null,
      "top": null,
      "visibility": null,
      "width": null
     }
    },
    "57a3862b588246bfb573d58549968d60": {
     "model_module": "@jupyter-widgets/controls",
     "model_module_version": "1.5.0",
     "model_name": "FloatProgressModel",
     "state": {
      "_dom_classes": [],
      "_model_module": "@jupyter-widgets/controls",
      "_model_module_version": "1.5.0",
      "_model_name": "FloatProgressModel",
      "_view_count": null,
      "_view_module": "@jupyter-widgets/controls",
      "_view_module_version": "1.5.0",
      "_view_name": "ProgressView",
      "bar_style": "success",
      "description": "",
      "description_tooltip": null,
      "layout": "IPY_MODEL_1a12dbe1000741deade5a16097f5c593",
      "max": 1000,
      "min": 0,
      "orientation": "horizontal",
      "style": "IPY_MODEL_3d1f907655294e7e9b18c720843eec1f",
      "value": 1000
     }
    },
    "5850f9fbbacc4d2b8ab619c9f86e4dd2": {
     "model_module": "@jupyter-widgets/controls",
     "model_module_version": "1.5.0",
     "model_name": "DescriptionStyleModel",
     "state": {
      "_model_module": "@jupyter-widgets/controls",
      "_model_module_version": "1.5.0",
      "_model_name": "DescriptionStyleModel",
      "_view_count": null,
      "_view_module": "@jupyter-widgets/base",
      "_view_module_version": "1.2.0",
      "_view_name": "StyleView",
      "description_width": ""
     }
    },
    "66df9d9bd6444541b0b9e5204fb343ea": {
     "model_module": "@jupyter-widgets/controls",
     "model_module_version": "1.5.0",
     "model_name": "HTMLModel",
     "state": {
      "_dom_classes": [],
      "_model_module": "@jupyter-widgets/controls",
      "_model_module_version": "1.5.0",
      "_model_name": "HTMLModel",
      "_view_count": null,
      "_view_module": "@jupyter-widgets/controls",
      "_view_module_version": "1.5.0",
      "_view_name": "HTMLView",
      "description": "",
      "description_tooltip": null,
      "layout": "IPY_MODEL_438ef61aa4404f0e8dd845a07125a6c8",
      "placeholder": "​",
      "style": "IPY_MODEL_d8c07dc6695449668d65e2d412f25053",
      "value": "JSMA: 100%"
     }
    },
    "7215e8f4424741c796ad0d4ffa2e0798": {
     "model_module": "@jupyter-widgets/controls",
     "model_module_version": "1.5.0",
     "model_name": "HBoxModel",
     "state": {
      "_dom_classes": [],
      "_model_module": "@jupyter-widgets/controls",
      "_model_module_version": "1.5.0",
      "_model_name": "HBoxModel",
      "_view_count": null,
      "_view_module": "@jupyter-widgets/controls",
      "_view_module_version": "1.5.0",
      "_view_name": "HBoxView",
      "box_style": "",
      "children": [
       "IPY_MODEL_0d2b84a23ca047ec8022426cbef52bcc",
       "IPY_MODEL_03859fa08c464bfb881c077f57ec4a70",
       "IPY_MODEL_b61de3bdd456439689aca9334e6dede9"
      ],
      "layout": "IPY_MODEL_2f50cc22d22743f0bc30fb0c32609430"
     }
    },
    "793c2ae4f6a64beb90db8b03e9a0fd56": {
     "model_module": "@jupyter-widgets/controls",
     "model_module_version": "1.5.0",
     "model_name": "DescriptionStyleModel",
     "state": {
      "_model_module": "@jupyter-widgets/controls",
      "_model_module_version": "1.5.0",
      "_model_name": "DescriptionStyleModel",
      "_view_count": null,
      "_view_module": "@jupyter-widgets/base",
      "_view_module_version": "1.2.0",
      "_view_name": "StyleView",
      "description_width": ""
     }
    },
    "7e27632c74374594950baf561e1a3615": {
     "model_module": "@jupyter-widgets/controls",
     "model_module_version": "1.5.0",
     "model_name": "HBoxModel",
     "state": {
      "_dom_classes": [],
      "_model_module": "@jupyter-widgets/controls",
      "_model_module_version": "1.5.0",
      "_model_name": "HBoxModel",
      "_view_count": null,
      "_view_module": "@jupyter-widgets/controls",
      "_view_module_version": "1.5.0",
      "_view_name": "HBoxView",
      "box_style": "",
      "children": [
       "IPY_MODEL_cc98c8d9286641fa91eff998dc438020",
       "IPY_MODEL_5220e02d20864b6abd97670422b2c6ba",
       "IPY_MODEL_488f74dee2604457adab200f33a1ea17"
      ],
      "layout": "IPY_MODEL_8560d2577f10462089f52fe959cc5aec"
     }
    },
    "80d8e16c9e594acfb0c5d99edf283eb2": {
     "model_module": "@jupyter-widgets/base",
     "model_module_version": "1.2.0",
     "model_name": "LayoutModel",
     "state": {
      "_model_module": "@jupyter-widgets/base",
      "_model_module_version": "1.2.0",
      "_model_name": "LayoutModel",
      "_view_count": null,
      "_view_module": "@jupyter-widgets/base",
      "_view_module_version": "1.2.0",
      "_view_name": "LayoutView",
      "align_content": null,
      "align_items": null,
      "align_self": null,
      "border": null,
      "bottom": null,
      "display": null,
      "flex": null,
      "flex_flow": null,
      "grid_area": null,
      "grid_auto_columns": null,
      "grid_auto_flow": null,
      "grid_auto_rows": null,
      "grid_column": null,
      "grid_gap": null,
      "grid_row": null,
      "grid_template_areas": null,
      "grid_template_columns": null,
      "grid_template_rows": null,
      "height": null,
      "justify_content": null,
      "justify_items": null,
      "left": null,
      "margin": null,
      "max_height": null,
      "max_width": null,
      "min_height": null,
      "min_width": null,
      "object_fit": null,
      "object_position": null,
      "order": null,
      "overflow": null,
      "overflow_x": null,
      "overflow_y": null,
      "padding": null,
      "right": null,
      "top": null,
      "visibility": null,
      "width": null
     }
    },
    "81dda2bc56524e8998ed6c28d313f4c8": {
     "model_module": "@jupyter-widgets/controls",
     "model_module_version": "1.5.0",
     "model_name": "DescriptionStyleModel",
     "state": {
      "_model_module": "@jupyter-widgets/controls",
      "_model_module_version": "1.5.0",
      "_model_name": "DescriptionStyleModel",
      "_view_count": null,
      "_view_module": "@jupyter-widgets/base",
      "_view_module_version": "1.2.0",
      "_view_name": "StyleView",
      "description_width": ""
     }
    },
    "8253e7c0037546f9ae7c71a440fa52c1": {
     "model_module": "@jupyter-widgets/controls",
     "model_module_version": "1.5.0",
     "model_name": "HTMLModel",
     "state": {
      "_dom_classes": [],
      "_model_module": "@jupyter-widgets/controls",
      "_model_module_version": "1.5.0",
      "_model_name": "HTMLModel",
      "_view_count": null,
      "_view_module": "@jupyter-widgets/controls",
      "_view_module_version": "1.5.0",
      "_view_name": "HTMLView",
      "description": "",
      "description_tooltip": null,
      "layout": "IPY_MODEL_8eb96b94a315422bbd8e24d4227db35c",
      "placeholder": "​",
      "style": "IPY_MODEL_81dda2bc56524e8998ed6c28d313f4c8",
      "value": " 1000/1000 [00:44&lt;00:00, 32.20it/s]"
     }
    },
    "843ecde8ab3d4e6ca4c463fc50d3b8ae": {
     "model_module": "@jupyter-widgets/base",
     "model_module_version": "1.2.0",
     "model_name": "LayoutModel",
     "state": {
      "_model_module": "@jupyter-widgets/base",
      "_model_module_version": "1.2.0",
      "_model_name": "LayoutModel",
      "_view_count": null,
      "_view_module": "@jupyter-widgets/base",
      "_view_module_version": "1.2.0",
      "_view_name": "LayoutView",
      "align_content": null,
      "align_items": null,
      "align_self": null,
      "border": null,
      "bottom": null,
      "display": null,
      "flex": null,
      "flex_flow": null,
      "grid_area": null,
      "grid_auto_columns": null,
      "grid_auto_flow": null,
      "grid_auto_rows": null,
      "grid_column": null,
      "grid_gap": null,
      "grid_row": null,
      "grid_template_areas": null,
      "grid_template_columns": null,
      "grid_template_rows": null,
      "height": null,
      "justify_content": null,
      "justify_items": null,
      "left": null,
      "margin": null,
      "max_height": null,
      "max_width": null,
      "min_height": null,
      "min_width": null,
      "object_fit": null,
      "object_position": null,
      "order": null,
      "overflow": null,
      "overflow_x": null,
      "overflow_y": null,
      "padding": null,
      "right": null,
      "top": null,
      "visibility": null,
      "width": null
     }
    },
    "8560d2577f10462089f52fe959cc5aec": {
     "model_module": "@jupyter-widgets/base",
     "model_module_version": "1.2.0",
     "model_name": "LayoutModel",
     "state": {
      "_model_module": "@jupyter-widgets/base",
      "_model_module_version": "1.2.0",
      "_model_name": "LayoutModel",
      "_view_count": null,
      "_view_module": "@jupyter-widgets/base",
      "_view_module_version": "1.2.0",
      "_view_name": "LayoutView",
      "align_content": null,
      "align_items": null,
      "align_self": null,
      "border": null,
      "bottom": null,
      "display": null,
      "flex": null,
      "flex_flow": null,
      "grid_area": null,
      "grid_auto_columns": null,
      "grid_auto_flow": null,
      "grid_auto_rows": null,
      "grid_column": null,
      "grid_gap": null,
      "grid_row": null,
      "grid_template_areas": null,
      "grid_template_columns": null,
      "grid_template_rows": null,
      "height": null,
      "justify_content": null,
      "justify_items": null,
      "left": null,
      "margin": null,
      "max_height": null,
      "max_width": null,
      "min_height": null,
      "min_width": null,
      "object_fit": null,
      "object_position": null,
      "order": null,
      "overflow": null,
      "overflow_x": null,
      "overflow_y": null,
      "padding": null,
      "right": null,
      "top": null,
      "visibility": null,
      "width": null
     }
    },
    "867594994b1a4502bfe0a669dbf38024": {
     "model_module": "@jupyter-widgets/controls",
     "model_module_version": "1.5.0",
     "model_name": "ProgressStyleModel",
     "state": {
      "_model_module": "@jupyter-widgets/controls",
      "_model_module_version": "1.5.0",
      "_model_name": "ProgressStyleModel",
      "_view_count": null,
      "_view_module": "@jupyter-widgets/base",
      "_view_module_version": "1.2.0",
      "_view_name": "StyleView",
      "bar_color": null,
      "description_width": ""
     }
    },
    "88410f46689a4385a37597e2c361cd9a": {
     "model_module": "@jupyter-widgets/controls",
     "model_module_version": "1.5.0",
     "model_name": "HBoxModel",
     "state": {
      "_dom_classes": [],
      "_model_module": "@jupyter-widgets/controls",
      "_model_module_version": "1.5.0",
      "_model_name": "HBoxModel",
      "_view_count": null,
      "_view_module": "@jupyter-widgets/controls",
      "_view_module_version": "1.5.0",
      "_view_name": "HBoxView",
      "box_style": "",
      "children": [
       "IPY_MODEL_be69904304524913a9a70890285ba17c",
       "IPY_MODEL_96d2ab8ce75e4165a22e55edb7cd0892",
       "IPY_MODEL_0b450dfc099a44a6b15cddc8fa4e6e75"
      ],
      "layout": "IPY_MODEL_4c389d6d180745bb8fbc68e13dfd8c84"
     }
    },
    "8a712ab830e7499d87bf79ccd5335529": {
     "model_module": "@jupyter-widgets/base",
     "model_module_version": "1.2.0",
     "model_name": "LayoutModel",
     "state": {
      "_model_module": "@jupyter-widgets/base",
      "_model_module_version": "1.2.0",
      "_model_name": "LayoutModel",
      "_view_count": null,
      "_view_module": "@jupyter-widgets/base",
      "_view_module_version": "1.2.0",
      "_view_name": "LayoutView",
      "align_content": null,
      "align_items": null,
      "align_self": null,
      "border": null,
      "bottom": null,
      "display": null,
      "flex": null,
      "flex_flow": null,
      "grid_area": null,
      "grid_auto_columns": null,
      "grid_auto_flow": null,
      "grid_auto_rows": null,
      "grid_column": null,
      "grid_gap": null,
      "grid_row": null,
      "grid_template_areas": null,
      "grid_template_columns": null,
      "grid_template_rows": null,
      "height": null,
      "justify_content": null,
      "justify_items": null,
      "left": null,
      "margin": null,
      "max_height": null,
      "max_width": null,
      "min_height": null,
      "min_width": null,
      "object_fit": null,
      "object_position": null,
      "order": null,
      "overflow": null,
      "overflow_x": null,
      "overflow_y": null,
      "padding": null,
      "right": null,
      "top": null,
      "visibility": null,
      "width": null
     }
    },
    "8eb96b94a315422bbd8e24d4227db35c": {
     "model_module": "@jupyter-widgets/base",
     "model_module_version": "1.2.0",
     "model_name": "LayoutModel",
     "state": {
      "_model_module": "@jupyter-widgets/base",
      "_model_module_version": "1.2.0",
      "_model_name": "LayoutModel",
      "_view_count": null,
      "_view_module": "@jupyter-widgets/base",
      "_view_module_version": "1.2.0",
      "_view_name": "LayoutView",
      "align_content": null,
      "align_items": null,
      "align_self": null,
      "border": null,
      "bottom": null,
      "display": null,
      "flex": null,
      "flex_flow": null,
      "grid_area": null,
      "grid_auto_columns": null,
      "grid_auto_flow": null,
      "grid_auto_rows": null,
      "grid_column": null,
      "grid_gap": null,
      "grid_row": null,
      "grid_template_areas": null,
      "grid_template_columns": null,
      "grid_template_rows": null,
      "height": null,
      "justify_content": null,
      "justify_items": null,
      "left": null,
      "margin": null,
      "max_height": null,
      "max_width": null,
      "min_height": null,
      "min_width": null,
      "object_fit": null,
      "object_position": null,
      "order": null,
      "overflow": null,
      "overflow_x": null,
      "overflow_y": null,
      "padding": null,
      "right": null,
      "top": null,
      "visibility": null,
      "width": null
     }
    },
    "924faa4cb7e7450db388fc0df6b6a9f2": {
     "model_module": "@jupyter-widgets/base",
     "model_module_version": "1.2.0",
     "model_name": "LayoutModel",
     "state": {
      "_model_module": "@jupyter-widgets/base",
      "_model_module_version": "1.2.0",
      "_model_name": "LayoutModel",
      "_view_count": null,
      "_view_module": "@jupyter-widgets/base",
      "_view_module_version": "1.2.0",
      "_view_name": "LayoutView",
      "align_content": null,
      "align_items": null,
      "align_self": null,
      "border": null,
      "bottom": null,
      "display": null,
      "flex": null,
      "flex_flow": null,
      "grid_area": null,
      "grid_auto_columns": null,
      "grid_auto_flow": null,
      "grid_auto_rows": null,
      "grid_column": null,
      "grid_gap": null,
      "grid_row": null,
      "grid_template_areas": null,
      "grid_template_columns": null,
      "grid_template_rows": null,
      "height": null,
      "justify_content": null,
      "justify_items": null,
      "left": null,
      "margin": null,
      "max_height": null,
      "max_width": null,
      "min_height": null,
      "min_width": null,
      "object_fit": null,
      "object_position": null,
      "order": null,
      "overflow": null,
      "overflow_x": null,
      "overflow_y": null,
      "padding": null,
      "right": null,
      "top": null,
      "visibility": null,
      "width": null
     }
    },
    "93db6736e8364ec6bbcadb4c64b8bf0f": {
     "model_module": "@jupyter-widgets/controls",
     "model_module_version": "1.5.0",
     "model_name": "DescriptionStyleModel",
     "state": {
      "_model_module": "@jupyter-widgets/controls",
      "_model_module_version": "1.5.0",
      "_model_name": "DescriptionStyleModel",
      "_view_count": null,
      "_view_module": "@jupyter-widgets/base",
      "_view_module_version": "1.2.0",
      "_view_name": "StyleView",
      "description_width": ""
     }
    },
    "96664e48fc834717abdf9eb93feb2b43": {
     "model_module": "@jupyter-widgets/base",
     "model_module_version": "1.2.0",
     "model_name": "LayoutModel",
     "state": {
      "_model_module": "@jupyter-widgets/base",
      "_model_module_version": "1.2.0",
      "_model_name": "LayoutModel",
      "_view_count": null,
      "_view_module": "@jupyter-widgets/base",
      "_view_module_version": "1.2.0",
      "_view_name": "LayoutView",
      "align_content": null,
      "align_items": null,
      "align_self": null,
      "border": null,
      "bottom": null,
      "display": null,
      "flex": null,
      "flex_flow": null,
      "grid_area": null,
      "grid_auto_columns": null,
      "grid_auto_flow": null,
      "grid_auto_rows": null,
      "grid_column": null,
      "grid_gap": null,
      "grid_row": null,
      "grid_template_areas": null,
      "grid_template_columns": null,
      "grid_template_rows": null,
      "height": null,
      "justify_content": null,
      "justify_items": null,
      "left": null,
      "margin": null,
      "max_height": null,
      "max_width": null,
      "min_height": null,
      "min_width": null,
      "object_fit": null,
      "object_position": null,
      "order": null,
      "overflow": null,
      "overflow_x": null,
      "overflow_y": null,
      "padding": null,
      "right": null,
      "top": null,
      "visibility": null,
      "width": null
     }
    },
    "96d2ab8ce75e4165a22e55edb7cd0892": {
     "model_module": "@jupyter-widgets/controls",
     "model_module_version": "1.5.0",
     "model_name": "FloatProgressModel",
     "state": {
      "_dom_classes": [],
      "_model_module": "@jupyter-widgets/controls",
      "_model_module_version": "1.5.0",
      "_model_name": "FloatProgressModel",
      "_view_count": null,
      "_view_module": "@jupyter-widgets/controls",
      "_view_module_version": "1.5.0",
      "_view_name": "ProgressView",
      "bar_style": "success",
      "description": "",
      "description_tooltip": null,
      "layout": "IPY_MODEL_924faa4cb7e7450db388fc0df6b6a9f2",
      "max": 1000,
      "min": 0,
      "orientation": "horizontal",
      "style": "IPY_MODEL_9ae5b9aae3534b1a9ee28537e1aafc24",
      "value": 1000
     }
    },
    "96e01e1054184cd4bd8f08f94fa92876": {
     "model_module": "@jupyter-widgets/controls",
     "model_module_version": "1.5.0",
     "model_name": "HTMLModel",
     "state": {
      "_dom_classes": [],
      "_model_module": "@jupyter-widgets/controls",
      "_model_module_version": "1.5.0",
      "_model_name": "HTMLModel",
      "_view_count": null,
      "_view_module": "@jupyter-widgets/controls",
      "_view_module_version": "1.5.0",
      "_view_name": "HTMLView",
      "description": "",
      "description_tooltip": null,
      "layout": "IPY_MODEL_248085f8ae5b4da4b91616f776dc1e8b",
      "placeholder": "​",
      "style": "IPY_MODEL_0073c66608b948c4909783b0baa43fe2",
      "value": "JSMA: 100%"
     }
    },
    "9ae5b9aae3534b1a9ee28537e1aafc24": {
     "model_module": "@jupyter-widgets/controls",
     "model_module_version": "1.5.0",
     "model_name": "ProgressStyleModel",
     "state": {
      "_model_module": "@jupyter-widgets/controls",
      "_model_module_version": "1.5.0",
      "_model_name": "ProgressStyleModel",
      "_view_count": null,
      "_view_module": "@jupyter-widgets/base",
      "_view_module_version": "1.2.0",
      "_view_name": "StyleView",
      "bar_color": null,
      "description_width": ""
     }
    },
    "a161ee521ee347d7a7985946eb8fc7f8": {
     "model_module": "@jupyter-widgets/controls",
     "model_module_version": "1.5.0",
     "model_name": "HTMLModel",
     "state": {
      "_dom_classes": [],
      "_model_module": "@jupyter-widgets/controls",
      "_model_module_version": "1.5.0",
      "_model_name": "HTMLModel",
      "_view_count": null,
      "_view_module": "@jupyter-widgets/controls",
      "_view_module_version": "1.5.0",
      "_view_name": "HTMLView",
      "description": "",
      "description_tooltip": null,
      "layout": "IPY_MODEL_3eb5f7c0c7db49feb0782c9fde85f08c",
      "placeholder": "​",
      "style": "IPY_MODEL_060524af7e1a4174966e907eade01aa7",
      "value": " 1000/1000 [04:53&lt;00:00,  6.99it/s]"
     }
    },
    "aa992f7813354af58e77abbb57f1dc77": {
     "model_module": "@jupyter-widgets/controls",
     "model_module_version": "1.5.0",
     "model_name": "DescriptionStyleModel",
     "state": {
      "_model_module": "@jupyter-widgets/controls",
      "_model_module_version": "1.5.0",
      "_model_name": "DescriptionStyleModel",
      "_view_count": null,
      "_view_module": "@jupyter-widgets/base",
      "_view_module_version": "1.2.0",
      "_view_name": "StyleView",
      "description_width": ""
     }
    },
    "aaa7c7b3206a4eedadd6ed43b83202d4": {
     "model_module": "@jupyter-widgets/controls",
     "model_module_version": "1.5.0",
     "model_name": "DescriptionStyleModel",
     "state": {
      "_model_module": "@jupyter-widgets/controls",
      "_model_module_version": "1.5.0",
      "_model_name": "DescriptionStyleModel",
      "_view_count": null,
      "_view_module": "@jupyter-widgets/base",
      "_view_module_version": "1.2.0",
      "_view_name": "StyleView",
      "description_width": ""
     }
    },
    "b0807000b85c46c4a88bc53c831989f9": {
     "model_module": "@jupyter-widgets/base",
     "model_module_version": "1.2.0",
     "model_name": "LayoutModel",
     "state": {
      "_model_module": "@jupyter-widgets/base",
      "_model_module_version": "1.2.0",
      "_model_name": "LayoutModel",
      "_view_count": null,
      "_view_module": "@jupyter-widgets/base",
      "_view_module_version": "1.2.0",
      "_view_name": "LayoutView",
      "align_content": null,
      "align_items": null,
      "align_self": null,
      "border": null,
      "bottom": null,
      "display": null,
      "flex": null,
      "flex_flow": null,
      "grid_area": null,
      "grid_auto_columns": null,
      "grid_auto_flow": null,
      "grid_auto_rows": null,
      "grid_column": null,
      "grid_gap": null,
      "grid_row": null,
      "grid_template_areas": null,
      "grid_template_columns": null,
      "grid_template_rows": null,
      "height": null,
      "justify_content": null,
      "justify_items": null,
      "left": null,
      "margin": null,
      "max_height": null,
      "max_width": null,
      "min_height": null,
      "min_width": null,
      "object_fit": null,
      "object_position": null,
      "order": null,
      "overflow": null,
      "overflow_x": null,
      "overflow_y": null,
      "padding": null,
      "right": null,
      "top": null,
      "visibility": null,
      "width": null
     }
    },
    "b5582c0d9b1941518687e6a3f444e1e4": {
     "model_module": "@jupyter-widgets/controls",
     "model_module_version": "1.5.0",
     "model_name": "ProgressStyleModel",
     "state": {
      "_model_module": "@jupyter-widgets/controls",
      "_model_module_version": "1.5.0",
      "_model_name": "ProgressStyleModel",
      "_view_count": null,
      "_view_module": "@jupyter-widgets/base",
      "_view_module_version": "1.2.0",
      "_view_name": "StyleView",
      "bar_color": null,
      "description_width": ""
     }
    },
    "b61de3bdd456439689aca9334e6dede9": {
     "model_module": "@jupyter-widgets/controls",
     "model_module_version": "1.5.0",
     "model_name": "HTMLModel",
     "state": {
      "_dom_classes": [],
      "_model_module": "@jupyter-widgets/controls",
      "_model_module_version": "1.5.0",
      "_model_name": "HTMLModel",
      "_view_count": null,
      "_view_module": "@jupyter-widgets/controls",
      "_view_module_version": "1.5.0",
      "_view_name": "HTMLView",
      "description": "",
      "description_tooltip": null,
      "layout": "IPY_MODEL_faf56a02f3b84e48b791a58989790b5f",
      "placeholder": "​",
      "style": "IPY_MODEL_5850f9fbbacc4d2b8ab619c9f86e4dd2",
      "value": " 1000/1000 [11:35&lt;00:00,  2.33it/s]"
     }
    },
    "b6ef1ccc94c74c42b4f21a94a573137c": {
     "model_module": "@jupyter-widgets/controls",
     "model_module_version": "1.5.0",
     "model_name": "DescriptionStyleModel",
     "state": {
      "_model_module": "@jupyter-widgets/controls",
      "_model_module_version": "1.5.0",
      "_model_name": "DescriptionStyleModel",
      "_view_count": null,
      "_view_module": "@jupyter-widgets/base",
      "_view_module_version": "1.2.0",
      "_view_name": "StyleView",
      "description_width": ""
     }
    },
    "b753ad39a5274fe5a69e28cfe4504f04": {
     "model_module": "@jupyter-widgets/base",
     "model_module_version": "1.2.0",
     "model_name": "LayoutModel",
     "state": {
      "_model_module": "@jupyter-widgets/base",
      "_model_module_version": "1.2.0",
      "_model_name": "LayoutModel",
      "_view_count": null,
      "_view_module": "@jupyter-widgets/base",
      "_view_module_version": "1.2.0",
      "_view_name": "LayoutView",
      "align_content": null,
      "align_items": null,
      "align_self": null,
      "border": null,
      "bottom": null,
      "display": null,
      "flex": null,
      "flex_flow": null,
      "grid_area": null,
      "grid_auto_columns": null,
      "grid_auto_flow": null,
      "grid_auto_rows": null,
      "grid_column": null,
      "grid_gap": null,
      "grid_row": null,
      "grid_template_areas": null,
      "grid_template_columns": null,
      "grid_template_rows": null,
      "height": null,
      "justify_content": null,
      "justify_items": null,
      "left": null,
      "margin": null,
      "max_height": null,
      "max_width": null,
      "min_height": null,
      "min_width": null,
      "object_fit": null,
      "object_position": null,
      "order": null,
      "overflow": null,
      "overflow_x": null,
      "overflow_y": null,
      "padding": null,
      "right": null,
      "top": null,
      "visibility": null,
      "width": null
     }
    },
    "be69904304524913a9a70890285ba17c": {
     "model_module": "@jupyter-widgets/controls",
     "model_module_version": "1.5.0",
     "model_name": "HTMLModel",
     "state": {
      "_dom_classes": [],
      "_model_module": "@jupyter-widgets/controls",
      "_model_module_version": "1.5.0",
      "_model_name": "HTMLModel",
      "_view_count": null,
      "_view_module": "@jupyter-widgets/controls",
      "_view_module_version": "1.5.0",
      "_view_name": "HTMLView",
      "description": "",
      "description_tooltip": null,
      "layout": "IPY_MODEL_c33b6b6fee0540729bca7c309f0b5acf",
      "placeholder": "​",
      "style": "IPY_MODEL_4491e9a74e1642b2af9b75ea6f2ca5ff",
      "value": "JSMA: 100%"
     }
    },
    "be8a0ddb513841d2afd5b9575124f950": {
     "model_module": "@jupyter-widgets/controls",
     "model_module_version": "1.5.0",
     "model_name": "ProgressStyleModel",
     "state": {
      "_model_module": "@jupyter-widgets/controls",
      "_model_module_version": "1.5.0",
      "_model_name": "ProgressStyleModel",
      "_view_count": null,
      "_view_module": "@jupyter-widgets/base",
      "_view_module_version": "1.2.0",
      "_view_name": "StyleView",
      "bar_color": null,
      "description_width": ""
     }
    },
    "c0bd0c84d70f45f793a24f5b94dd9fce": {
     "model_module": "@jupyter-widgets/base",
     "model_module_version": "1.2.0",
     "model_name": "LayoutModel",
     "state": {
      "_model_module": "@jupyter-widgets/base",
      "_model_module_version": "1.2.0",
      "_model_name": "LayoutModel",
      "_view_count": null,
      "_view_module": "@jupyter-widgets/base",
      "_view_module_version": "1.2.0",
      "_view_name": "LayoutView",
      "align_content": null,
      "align_items": null,
      "align_self": null,
      "border": null,
      "bottom": null,
      "display": null,
      "flex": null,
      "flex_flow": null,
      "grid_area": null,
      "grid_auto_columns": null,
      "grid_auto_flow": null,
      "grid_auto_rows": null,
      "grid_column": null,
      "grid_gap": null,
      "grid_row": null,
      "grid_template_areas": null,
      "grid_template_columns": null,
      "grid_template_rows": null,
      "height": null,
      "justify_content": null,
      "justify_items": null,
      "left": null,
      "margin": null,
      "max_height": null,
      "max_width": null,
      "min_height": null,
      "min_width": null,
      "object_fit": null,
      "object_position": null,
      "order": null,
      "overflow": null,
      "overflow_x": null,
      "overflow_y": null,
      "padding": null,
      "right": null,
      "top": null,
      "visibility": null,
      "width": null
     }
    },
    "c33b6b6fee0540729bca7c309f0b5acf": {
     "model_module": "@jupyter-widgets/base",
     "model_module_version": "1.2.0",
     "model_name": "LayoutModel",
     "state": {
      "_model_module": "@jupyter-widgets/base",
      "_model_module_version": "1.2.0",
      "_model_name": "LayoutModel",
      "_view_count": null,
      "_view_module": "@jupyter-widgets/base",
      "_view_module_version": "1.2.0",
      "_view_name": "LayoutView",
      "align_content": null,
      "align_items": null,
      "align_self": null,
      "border": null,
      "bottom": null,
      "display": null,
      "flex": null,
      "flex_flow": null,
      "grid_area": null,
      "grid_auto_columns": null,
      "grid_auto_flow": null,
      "grid_auto_rows": null,
      "grid_column": null,
      "grid_gap": null,
      "grid_row": null,
      "grid_template_areas": null,
      "grid_template_columns": null,
      "grid_template_rows": null,
      "height": null,
      "justify_content": null,
      "justify_items": null,
      "left": null,
      "margin": null,
      "max_height": null,
      "max_width": null,
      "min_height": null,
      "min_width": null,
      "object_fit": null,
      "object_position": null,
      "order": null,
      "overflow": null,
      "overflow_x": null,
      "overflow_y": null,
      "padding": null,
      "right": null,
      "top": null,
      "visibility": null,
      "width": null
     }
    },
    "c6b9ac9c2f5b44e9bf8c6c565f7d0b7c": {
     "model_module": "@jupyter-widgets/controls",
     "model_module_version": "1.5.0",
     "model_name": "FloatProgressModel",
     "state": {
      "_dom_classes": [],
      "_model_module": "@jupyter-widgets/controls",
      "_model_module_version": "1.5.0",
      "_model_name": "FloatProgressModel",
      "_view_count": null,
      "_view_module": "@jupyter-widgets/controls",
      "_view_module_version": "1.5.0",
      "_view_name": "ProgressView",
      "bar_style": "success",
      "description": "",
      "description_tooltip": null,
      "layout": "IPY_MODEL_cbfbf96eebec4f1fbd73df1e47158a7e",
      "max": 1000,
      "min": 0,
      "orientation": "horizontal",
      "style": "IPY_MODEL_1a540bf75ca446a3aae7e637cc778ec9",
      "value": 1000
     }
    },
    "c758376928694bcd8b52e83bb4c6b27a": {
     "model_module": "@jupyter-widgets/controls",
     "model_module_version": "1.5.0",
     "model_name": "ProgressStyleModel",
     "state": {
      "_model_module": "@jupyter-widgets/controls",
      "_model_module_version": "1.5.0",
      "_model_name": "ProgressStyleModel",
      "_view_count": null,
      "_view_module": "@jupyter-widgets/base",
      "_view_module_version": "1.2.0",
      "_view_name": "StyleView",
      "bar_color": null,
      "description_width": ""
     }
    },
    "caf57c811a9a4237a1663778a89334b7": {
     "model_module": "@jupyter-widgets/controls",
     "model_module_version": "1.5.0",
     "model_name": "HBoxModel",
     "state": {
      "_dom_classes": [],
      "_model_module": "@jupyter-widgets/controls",
      "_model_module_version": "1.5.0",
      "_model_name": "HBoxModel",
      "_view_count": null,
      "_view_module": "@jupyter-widgets/controls",
      "_view_module_version": "1.5.0",
      "_view_name": "HBoxView",
      "box_style": "",
      "children": [
       "IPY_MODEL_151b6640c95e4c369a550782709d2f84",
       "IPY_MODEL_57a3862b588246bfb573d58549968d60",
       "IPY_MODEL_8253e7c0037546f9ae7c71a440fa52c1"
      ],
      "layout": "IPY_MODEL_1026895b89f84484917fd517a9d45f77"
     }
    },
    "cbfbf96eebec4f1fbd73df1e47158a7e": {
     "model_module": "@jupyter-widgets/base",
     "model_module_version": "1.2.0",
     "model_name": "LayoutModel",
     "state": {
      "_model_module": "@jupyter-widgets/base",
      "_model_module_version": "1.2.0",
      "_model_name": "LayoutModel",
      "_view_count": null,
      "_view_module": "@jupyter-widgets/base",
      "_view_module_version": "1.2.0",
      "_view_name": "LayoutView",
      "align_content": null,
      "align_items": null,
      "align_self": null,
      "border": null,
      "bottom": null,
      "display": null,
      "flex": null,
      "flex_flow": null,
      "grid_area": null,
      "grid_auto_columns": null,
      "grid_auto_flow": null,
      "grid_auto_rows": null,
      "grid_column": null,
      "grid_gap": null,
      "grid_row": null,
      "grid_template_areas": null,
      "grid_template_columns": null,
      "grid_template_rows": null,
      "height": null,
      "justify_content": null,
      "justify_items": null,
      "left": null,
      "margin": null,
      "max_height": null,
      "max_width": null,
      "min_height": null,
      "min_width": null,
      "object_fit": null,
      "object_position": null,
      "order": null,
      "overflow": null,
      "overflow_x": null,
      "overflow_y": null,
      "padding": null,
      "right": null,
      "top": null,
      "visibility": null,
      "width": null
     }
    },
    "cc98c8d9286641fa91eff998dc438020": {
     "model_module": "@jupyter-widgets/controls",
     "model_module_version": "1.5.0",
     "model_name": "HTMLModel",
     "state": {
      "_dom_classes": [],
      "_model_module": "@jupyter-widgets/controls",
      "_model_module_version": "1.5.0",
      "_model_name": "HTMLModel",
      "_view_count": null,
      "_view_module": "@jupyter-widgets/controls",
      "_view_module_version": "1.5.0",
      "_view_name": "HTMLView",
      "description": "",
      "description_tooltip": null,
      "layout": "IPY_MODEL_843ecde8ab3d4e6ca4c463fc50d3b8ae",
      "placeholder": "​",
      "style": "IPY_MODEL_aa992f7813354af58e77abbb57f1dc77",
      "value": "JSMA: 100%"
     }
    },
    "d266167bb55e45c881776ec9fd9f3d9a": {
     "model_module": "@jupyter-widgets/controls",
     "model_module_version": "1.5.0",
     "model_name": "DescriptionStyleModel",
     "state": {
      "_model_module": "@jupyter-widgets/controls",
      "_model_module_version": "1.5.0",
      "_model_name": "DescriptionStyleModel",
      "_view_count": null,
      "_view_module": "@jupyter-widgets/base",
      "_view_module_version": "1.2.0",
      "_view_name": "StyleView",
      "description_width": ""
     }
    },
    "d78c2b37601d45d8b9b6fd92f3ccd070": {
     "model_module": "@jupyter-widgets/base",
     "model_module_version": "1.2.0",
     "model_name": "LayoutModel",
     "state": {
      "_model_module": "@jupyter-widgets/base",
      "_model_module_version": "1.2.0",
      "_model_name": "LayoutModel",
      "_view_count": null,
      "_view_module": "@jupyter-widgets/base",
      "_view_module_version": "1.2.0",
      "_view_name": "LayoutView",
      "align_content": null,
      "align_items": null,
      "align_self": null,
      "border": null,
      "bottom": null,
      "display": null,
      "flex": null,
      "flex_flow": null,
      "grid_area": null,
      "grid_auto_columns": null,
      "grid_auto_flow": null,
      "grid_auto_rows": null,
      "grid_column": null,
      "grid_gap": null,
      "grid_row": null,
      "grid_template_areas": null,
      "grid_template_columns": null,
      "grid_template_rows": null,
      "height": null,
      "justify_content": null,
      "justify_items": null,
      "left": null,
      "margin": null,
      "max_height": null,
      "max_width": null,
      "min_height": null,
      "min_width": null,
      "object_fit": null,
      "object_position": null,
      "order": null,
      "overflow": null,
      "overflow_x": null,
      "overflow_y": null,
      "padding": null,
      "right": null,
      "top": null,
      "visibility": null,
      "width": null
     }
    },
    "d8c07dc6695449668d65e2d412f25053": {
     "model_module": "@jupyter-widgets/controls",
     "model_module_version": "1.5.0",
     "model_name": "DescriptionStyleModel",
     "state": {
      "_model_module": "@jupyter-widgets/controls",
      "_model_module_version": "1.5.0",
      "_model_name": "DescriptionStyleModel",
      "_view_count": null,
      "_view_module": "@jupyter-widgets/base",
      "_view_module_version": "1.2.0",
      "_view_name": "StyleView",
      "description_width": ""
     }
    },
    "e7158f43beb14b49b6b25c6e2df2fb7a": {
     "model_module": "@jupyter-widgets/base",
     "model_module_version": "1.2.0",
     "model_name": "LayoutModel",
     "state": {
      "_model_module": "@jupyter-widgets/base",
      "_model_module_version": "1.2.0",
      "_model_name": "LayoutModel",
      "_view_count": null,
      "_view_module": "@jupyter-widgets/base",
      "_view_module_version": "1.2.0",
      "_view_name": "LayoutView",
      "align_content": null,
      "align_items": null,
      "align_self": null,
      "border": null,
      "bottom": null,
      "display": null,
      "flex": null,
      "flex_flow": null,
      "grid_area": null,
      "grid_auto_columns": null,
      "grid_auto_flow": null,
      "grid_auto_rows": null,
      "grid_column": null,
      "grid_gap": null,
      "grid_row": null,
      "grid_template_areas": null,
      "grid_template_columns": null,
      "grid_template_rows": null,
      "height": null,
      "justify_content": null,
      "justify_items": null,
      "left": null,
      "margin": null,
      "max_height": null,
      "max_width": null,
      "min_height": null,
      "min_width": null,
      "object_fit": null,
      "object_position": null,
      "order": null,
      "overflow": null,
      "overflow_x": null,
      "overflow_y": null,
      "padding": null,
      "right": null,
      "top": null,
      "visibility": null,
      "width": null
     }
    },
    "faf56a02f3b84e48b791a58989790b5f": {
     "model_module": "@jupyter-widgets/base",
     "model_module_version": "1.2.0",
     "model_name": "LayoutModel",
     "state": {
      "_model_module": "@jupyter-widgets/base",
      "_model_module_version": "1.2.0",
      "_model_name": "LayoutModel",
      "_view_count": null,
      "_view_module": "@jupyter-widgets/base",
      "_view_module_version": "1.2.0",
      "_view_name": "LayoutView",
      "align_content": null,
      "align_items": null,
      "align_self": null,
      "border": null,
      "bottom": null,
      "display": null,
      "flex": null,
      "flex_flow": null,
      "grid_area": null,
      "grid_auto_columns": null,
      "grid_auto_flow": null,
      "grid_auto_rows": null,
      "grid_column": null,
      "grid_gap": null,
      "grid_row": null,
      "grid_template_areas": null,
      "grid_template_columns": null,
      "grid_template_rows": null,
      "height": null,
      "justify_content": null,
      "justify_items": null,
      "left": null,
      "margin": null,
      "max_height": null,
      "max_width": null,
      "min_height": null,
      "min_width": null,
      "object_fit": null,
      "object_position": null,
      "order": null,
      "overflow": null,
      "overflow_x": null,
      "overflow_y": null,
      "padding": null,
      "right": null,
      "top": null,
      "visibility": null,
      "width": null
     }
    },
    "fb91b1df843f47d99fffd7d73a975e52": {
     "model_module": "@jupyter-widgets/controls",
     "model_module_version": "1.5.0",
     "model_name": "FloatProgressModel",
     "state": {
      "_dom_classes": [],
      "_model_module": "@jupyter-widgets/controls",
      "_model_module_version": "1.5.0",
      "_model_name": "FloatProgressModel",
      "_view_count": null,
      "_view_module": "@jupyter-widgets/controls",
      "_view_module_version": "1.5.0",
      "_view_name": "ProgressView",
      "bar_style": "success",
      "description": "",
      "description_tooltip": null,
      "layout": "IPY_MODEL_4c199436606545e28fd470fb45ea501c",
      "max": 1000,
      "min": 0,
      "orientation": "horizontal",
      "style": "IPY_MODEL_be8a0ddb513841d2afd5b9575124f950",
      "value": 1000
     }
    }
   }
  }
 },
 "nbformat": 4,
 "nbformat_minor": 1
}
